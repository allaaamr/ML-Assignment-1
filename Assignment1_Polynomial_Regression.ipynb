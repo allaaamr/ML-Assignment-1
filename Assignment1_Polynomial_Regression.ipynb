{
 "cells": [
  {
   "cell_type": "markdown",
   "metadata": {
    "id": "nz_9QnWBj9_6"
   },
   "source": [
    "# Polynomial Regression Assignment (Please do not remove the output cells)"
   ]
  },
  {
   "cell_type": "markdown",
   "metadata": {
    "id": "oNtRAlw1uQYi"
   },
   "source": [
    "## The objective is to apply polynomial regression on the provided data using 3 regularization techniques"
   ]
  },
  {
   "cell_type": "markdown",
   "metadata": {
    "id": "0Sh_Oqa2j9_7"
   },
   "source": [
    "Tasks are defined below:\n",
    "1-  Read the dataset, and get acquainted with its features and labels. Check the link below for more details about the data.  \n",
    "https://archive.ics.uci.edu/ml/datasets/Air+Quality  \n",
    "\n",
    "2-  This dataset has 5 different output labels. For this assignment we only need the NO2 output. Please drop other outputs.  \n",
    "\n",
    "3-  Handle missing data similar to what was covered in tutorial 3.  \n",
    "\n",
    "4-  Replace the date feature with 3 separate features (Day, Month and Year).  \n",
    "\n",
    "5-  Replace the time feature with 3 separate features (Hours, Minutes and Seconds).  \n",
    "\n",
    "6-  Apply feature scaling.  \n",
    "\n",
    "7-  Evaluate different degrees of lasso CV polynomial regression.  \n",
    "\n",
    "8-  Choose the best degree and print the errors on the test data, model coefficients and the lasso parameters.  \n",
    "\n",
    "9-  Repeat steps 4 and 5 using Ridge CV polynomial regression.  \n",
    "\n",
    "10- Repeat steps 4 and 5 using ElasticNet CV polynomial regression.  \n",
    "\n",
    "11- Compare the errors from the 3 regularization techniques, and save the best model.  \n",
    "\n",
    "12- Load the best model and test it on a sample that you manually created it.  \n"
   ]
  },
  {
   "cell_type": "markdown",
   "metadata": {},
   "source": [
    "## Enter your IDs and Names below"
   ]
  },
  {
   "cell_type": "markdown",
   "metadata": {},
   "source": [
    "1-   Alaa Amr Abdelazeem 46-12699\n",
    "  \n",
    "2-   Salma Khalid Sherif 46-5953"
   ]
  },
  {
   "cell_type": "markdown",
   "metadata": {
    "id": "bsZFdAtSj9_8"
   },
   "source": [
    "\n",
    "### Imports"
   ]
  },
  {
   "cell_type": "code",
   "execution_count": 39,
   "metadata": {
    "collapsed": true,
    "id": "nuN2-J1bj9_9"
   },
   "outputs": [],
   "source": [
    "import matplotlib.pyplot as plt\n",
    "import seaborn as sns\n",
    "import pandas as pd\n",
    "import numpy as np\n",
    "from sklearn.preprocessing import StandardScaler\n",
    "from sklearn.model_selection import train_test_split\n",
    "from sklearn.linear_model import LassoCV\n",
    "from sklearn.linear_model import RidgeCV\n",
    "from sklearn.linear_model import ElasticNetCV\n",
    "from sklearn.preprocessing import PolynomialFeatures\n",
    "from sklearn.metrics import mean_absolute_error,mean_squared_error\n",
    "# import warnings\n",
    "# warnings.filterwarnings('ignore')"
   ]
  },
  {
   "cell_type": "markdown",
   "metadata": {
    "id": "hszifOuTj9__"
   },
   "source": [
    "### 1- Read the data"
   ]
  },
  {
   "cell_type": "code",
   "execution_count": 2,
   "metadata": {
    "collapsed": true,
    "id": "ZzX469qmUTu2"
   },
   "outputs": [
    {
     "data": {
      "text/html": [
       "<div>\n",
       "<style scoped>\n",
       "    .dataframe tbody tr th:only-of-type {\n",
       "        vertical-align: middle;\n",
       "    }\n",
       "\n",
       "    .dataframe tbody tr th {\n",
       "        vertical-align: top;\n",
       "    }\n",
       "\n",
       "    .dataframe thead th {\n",
       "        text-align: right;\n",
       "    }\n",
       "</style>\n",
       "<table border=\"1\" class=\"dataframe\">\n",
       "  <thead>\n",
       "    <tr style=\"text-align: right;\">\n",
       "      <th></th>\n",
       "      <th>Date</th>\n",
       "      <th>Time</th>\n",
       "      <th>CO(GT)</th>\n",
       "      <th>PT08.S1(CO)</th>\n",
       "      <th>NMHC(GT)</th>\n",
       "      <th>C6H6(GT)</th>\n",
       "      <th>PT08.S2(NMHC)</th>\n",
       "      <th>NOx(GT)</th>\n",
       "      <th>PT08.S3(NOx)</th>\n",
       "      <th>NO2(GT)</th>\n",
       "      <th>PT08.S4(NO2)</th>\n",
       "      <th>PT08.S5(O3)</th>\n",
       "      <th>T</th>\n",
       "      <th>RH</th>\n",
       "      <th>AH</th>\n",
       "    </tr>\n",
       "  </thead>\n",
       "  <tbody>\n",
       "    <tr>\n",
       "      <th>0</th>\n",
       "      <td>3/10/2004</td>\n",
       "      <td>18:00:00</td>\n",
       "      <td>2.6</td>\n",
       "      <td>1360.0</td>\n",
       "      <td>150.0</td>\n",
       "      <td>11.9</td>\n",
       "      <td>1046.0</td>\n",
       "      <td>166.0</td>\n",
       "      <td>1056.0</td>\n",
       "      <td>113.0</td>\n",
       "      <td>1692.0</td>\n",
       "      <td>1268.0</td>\n",
       "      <td>13.6</td>\n",
       "      <td>48.9</td>\n",
       "      <td>0.7578</td>\n",
       "    </tr>\n",
       "    <tr>\n",
       "      <th>1</th>\n",
       "      <td>3/10/2004</td>\n",
       "      <td>19:00:00</td>\n",
       "      <td>2.0</td>\n",
       "      <td>1292.0</td>\n",
       "      <td>112.0</td>\n",
       "      <td>9.4</td>\n",
       "      <td>955.0</td>\n",
       "      <td>103.0</td>\n",
       "      <td>1174.0</td>\n",
       "      <td>92.0</td>\n",
       "      <td>1559.0</td>\n",
       "      <td>972.0</td>\n",
       "      <td>13.3</td>\n",
       "      <td>47.7</td>\n",
       "      <td>0.7255</td>\n",
       "    </tr>\n",
       "    <tr>\n",
       "      <th>2</th>\n",
       "      <td>3/10/2004</td>\n",
       "      <td>20:00:00</td>\n",
       "      <td>2.2</td>\n",
       "      <td>1402.0</td>\n",
       "      <td>88.0</td>\n",
       "      <td>9.0</td>\n",
       "      <td>939.0</td>\n",
       "      <td>131.0</td>\n",
       "      <td>1140.0</td>\n",
       "      <td>114.0</td>\n",
       "      <td>1555.0</td>\n",
       "      <td>1074.0</td>\n",
       "      <td>11.9</td>\n",
       "      <td>54.0</td>\n",
       "      <td>0.7502</td>\n",
       "    </tr>\n",
       "    <tr>\n",
       "      <th>3</th>\n",
       "      <td>3/10/2004</td>\n",
       "      <td>21:00:00</td>\n",
       "      <td>2.2</td>\n",
       "      <td>1376.0</td>\n",
       "      <td>80.0</td>\n",
       "      <td>9.2</td>\n",
       "      <td>948.0</td>\n",
       "      <td>172.0</td>\n",
       "      <td>1092.0</td>\n",
       "      <td>122.0</td>\n",
       "      <td>1584.0</td>\n",
       "      <td>1203.0</td>\n",
       "      <td>11.0</td>\n",
       "      <td>60.0</td>\n",
       "      <td>0.7867</td>\n",
       "    </tr>\n",
       "    <tr>\n",
       "      <th>4</th>\n",
       "      <td>3/10/2004</td>\n",
       "      <td>22:00:00</td>\n",
       "      <td>1.6</td>\n",
       "      <td>1272.0</td>\n",
       "      <td>51.0</td>\n",
       "      <td>6.5</td>\n",
       "      <td>836.0</td>\n",
       "      <td>131.0</td>\n",
       "      <td>1205.0</td>\n",
       "      <td>116.0</td>\n",
       "      <td>1490.0</td>\n",
       "      <td>1110.0</td>\n",
       "      <td>11.2</td>\n",
       "      <td>59.6</td>\n",
       "      <td>0.7888</td>\n",
       "    </tr>\n",
       "  </tbody>\n",
       "</table>\n",
       "</div>"
      ],
      "text/plain": [
       "        Date      Time  CO(GT)  PT08.S1(CO)  NMHC(GT)  C6H6(GT)  \\\n",
       "0  3/10/2004  18:00:00     2.6       1360.0     150.0      11.9   \n",
       "1  3/10/2004  19:00:00     2.0       1292.0     112.0       9.4   \n",
       "2  3/10/2004  20:00:00     2.2       1402.0      88.0       9.0   \n",
       "3  3/10/2004  21:00:00     2.2       1376.0      80.0       9.2   \n",
       "4  3/10/2004  22:00:00     1.6       1272.0      51.0       6.5   \n",
       "\n",
       "   PT08.S2(NMHC)  NOx(GT)  PT08.S3(NOx)  NO2(GT)  PT08.S4(NO2)  PT08.S5(O3)  \\\n",
       "0         1046.0    166.0        1056.0    113.0        1692.0       1268.0   \n",
       "1          955.0    103.0        1174.0     92.0        1559.0        972.0   \n",
       "2          939.0    131.0        1140.0    114.0        1555.0       1074.0   \n",
       "3          948.0    172.0        1092.0    122.0        1584.0       1203.0   \n",
       "4          836.0    131.0        1205.0    116.0        1490.0       1110.0   \n",
       "\n",
       "      T    RH      AH  \n",
       "0  13.6  48.9  0.7578  \n",
       "1  13.3  47.7  0.7255  \n",
       "2  11.9  54.0  0.7502  \n",
       "3  11.0  60.0  0.7867  \n",
       "4  11.2  59.6  0.7888  "
      ]
     },
     "execution_count": 2,
     "metadata": {},
     "output_type": "execute_result"
    }
   ],
   "source": [
    "df = pd.read_csv('AirQualityUCI.csv')\n",
    "df.head()"
   ]
  },
  {
   "cell_type": "markdown",
   "metadata": {
    "id": "TMHFhOfXuQYl"
   },
   "source": [
    "### 2- Drop unwanted labels"
   ]
  },
  {
   "cell_type": "code",
   "execution_count": 3,
   "metadata": {},
   "outputs": [],
   "source": [
    "df = df.drop(['CO(GT)', 'NMHC(GT)', 'C6H6(GT)', 'NOx(GT)'], axis = 1)"
   ]
  },
  {
   "cell_type": "markdown",
   "metadata": {
    "id": "rMSYDzn1uQYm"
   },
   "source": [
    "### 3- Handle missing data"
   ]
  },
  {
   "cell_type": "code",
   "execution_count": 4,
   "metadata": {
    "collapsed": true,
    "id": "FEai7yH9uQYn"
   },
   "outputs": [
    {
     "data": {
      "text/plain": [
       "Date              0.00000\n",
       "Time              0.00000\n",
       "PT08.S1(CO)       3.91151\n",
       "PT08.S2(NMHC)     3.91151\n",
       "PT08.S3(NOx)      3.91151\n",
       "NO2(GT)          17.54836\n",
       "PT08.S4(NO2)      3.91151\n",
       "PT08.S5(O3)       3.91151\n",
       "T                 3.91151\n",
       "RH                3.91151\n",
       "AH                3.91151\n",
       "dtype: float64"
      ]
     },
     "execution_count": 4,
     "metadata": {},
     "output_type": "execute_result"
    }
   ],
   "source": [
    "#Observing the missing data\n",
    "df.isnull().mean()*100\n",
    "#As seen belor, it was observed that the missing rate which is 3.91151% is the same error in all features (except dat and time)\n",
    "#Therefore, it might be the case that the missing data of those features occur in the same rows."
   ]
  },
  {
   "cell_type": "code",
   "execution_count": 5,
   "metadata": {},
   "outputs": [
    {
     "data": {
      "text/plain": [
       "Date              0.000000\n",
       "Time              0.000000\n",
       "PT08.S1(CO)       0.000000\n",
       "PT08.S2(NMHC)     0.000000\n",
       "PT08.S3(NOx)      0.000000\n",
       "NO2(GT)          17.773329\n",
       "PT08.S4(NO2)      0.000000\n",
       "PT08.S5(O3)       0.000000\n",
       "T                 0.000000\n",
       "RH                0.000000\n",
       "AH                0.000000\n",
       "dtype: float64"
      ]
     },
     "execution_count": 5,
     "metadata": {},
     "output_type": "execute_result"
    }
   ],
   "source": [
    "#Dropping the null values of 1 of the 8 features led to 0% error in all other 7 features too.\n",
    "# Hence it is safe to drop these rows since they yield almost no information.\n",
    "df = df.dropna(axis=0,subset= ['PT08.S4(NO2)'])\n",
    "df.isnull().mean()*100"
   ]
  },
  {
   "cell_type": "code",
   "execution_count": 6,
   "metadata": {},
   "outputs": [
    {
     "data": {
      "text/plain": [
       "Date             0.0\n",
       "Time             0.0\n",
       "PT08.S1(CO)      0.0\n",
       "PT08.S2(NMHC)    0.0\n",
       "PT08.S3(NOx)     0.0\n",
       "NO2(GT)          0.0\n",
       "PT08.S4(NO2)     0.0\n",
       "PT08.S5(O3)      0.0\n",
       "T                0.0\n",
       "RH               0.0\n",
       "AH               0.0\n",
       "dtype: float64"
      ]
     },
     "execution_count": 6,
     "metadata": {},
     "output_type": "execute_result"
    }
   ],
   "source": [
    "# The only remaining missing null values is in NO2(GT) which is our label.\n",
    "# Imputing the label or trying to fill in the missing value might confuse the model. \n",
    "# Therefore, althought the percentage is quite big 17% however it is safer to drop these rows.\n",
    "df = df.dropna(axis=0,subset= ['NO2(GT)'] )\n",
    "df.isnull().mean()*100"
   ]
  },
  {
   "cell_type": "code",
   "execution_count": 7,
   "metadata": {},
   "outputs": [
    {
     "data": {
      "text/html": [
       "<div>\n",
       "<style scoped>\n",
       "    .dataframe tbody tr th:only-of-type {\n",
       "        vertical-align: middle;\n",
       "    }\n",
       "\n",
       "    .dataframe tbody tr th {\n",
       "        vertical-align: top;\n",
       "    }\n",
       "\n",
       "    .dataframe thead th {\n",
       "        text-align: right;\n",
       "    }\n",
       "</style>\n",
       "<table border=\"1\" class=\"dataframe\">\n",
       "  <thead>\n",
       "    <tr style=\"text-align: right;\">\n",
       "      <th></th>\n",
       "      <th>PT08.S1(CO)</th>\n",
       "      <th>PT08.S2(NMHC)</th>\n",
       "      <th>PT08.S3(NOx)</th>\n",
       "      <th>NO2(GT)</th>\n",
       "      <th>PT08.S4(NO2)</th>\n",
       "      <th>PT08.S5(O3)</th>\n",
       "      <th>T</th>\n",
       "      <th>RH</th>\n",
       "      <th>AH</th>\n",
       "    </tr>\n",
       "  </thead>\n",
       "  <tbody>\n",
       "    <tr>\n",
       "      <th>PT08.S1(CO)</th>\n",
       "      <td>1.000000</td>\n",
       "      <td>0.887255</td>\n",
       "      <td>-0.764753</td>\n",
       "      <td>0.641529</td>\n",
       "      <td>0.671479</td>\n",
       "      <td>0.897387</td>\n",
       "      <td>0.037803</td>\n",
       "      <td>0.149997</td>\n",
       "      <td>0.145952</td>\n",
       "    </tr>\n",
       "    <tr>\n",
       "      <th>PT08.S2(NMHC)</th>\n",
       "      <td>0.887255</td>\n",
       "      <td>1.000000</td>\n",
       "      <td>-0.787482</td>\n",
       "      <td>0.646245</td>\n",
       "      <td>0.773759</td>\n",
       "      <td>0.877024</td>\n",
       "      <td>0.244044</td>\n",
       "      <td>-0.069042</td>\n",
       "      <td>0.207012</td>\n",
       "    </tr>\n",
       "    <tr>\n",
       "      <th>PT08.S3(NOx)</th>\n",
       "      <td>-0.764753</td>\n",
       "      <td>-0.787482</td>\n",
       "      <td>1.000000</td>\n",
       "      <td>-0.652083</td>\n",
       "      <td>-0.519404</td>\n",
       "      <td>-0.792080</td>\n",
       "      <td>-0.125662</td>\n",
       "      <td>-0.086211</td>\n",
       "      <td>-0.228097</td>\n",
       "    </tr>\n",
       "    <tr>\n",
       "      <th>NO2(GT)</th>\n",
       "      <td>0.641529</td>\n",
       "      <td>0.646245</td>\n",
       "      <td>-0.652083</td>\n",
       "      <td>1.000000</td>\n",
       "      <td>0.157360</td>\n",
       "      <td>0.708128</td>\n",
       "      <td>-0.186533</td>\n",
       "      <td>-0.091759</td>\n",
       "      <td>-0.335022</td>\n",
       "    </tr>\n",
       "    <tr>\n",
       "      <th>PT08.S4(NO2)</th>\n",
       "      <td>0.671479</td>\n",
       "      <td>0.773759</td>\n",
       "      <td>-0.519404</td>\n",
       "      <td>0.157360</td>\n",
       "      <td>1.000000</td>\n",
       "      <td>0.576766</td>\n",
       "      <td>0.575516</td>\n",
       "      <td>-0.027654</td>\n",
       "      <td>0.651306</td>\n",
       "    </tr>\n",
       "    <tr>\n",
       "      <th>PT08.S5(O3)</th>\n",
       "      <td>0.897387</td>\n",
       "      <td>0.877024</td>\n",
       "      <td>-0.792080</td>\n",
       "      <td>0.708128</td>\n",
       "      <td>0.576766</td>\n",
       "      <td>1.000000</td>\n",
       "      <td>-0.033249</td>\n",
       "      <td>0.147627</td>\n",
       "      <td>0.077238</td>\n",
       "    </tr>\n",
       "    <tr>\n",
       "      <th>T</th>\n",
       "      <td>0.037803</td>\n",
       "      <td>0.244044</td>\n",
       "      <td>-0.125662</td>\n",
       "      <td>-0.186533</td>\n",
       "      <td>0.575516</td>\n",
       "      <td>-0.033249</td>\n",
       "      <td>1.000000</td>\n",
       "      <td>-0.574889</td>\n",
       "      <td>0.661295</td>\n",
       "    </tr>\n",
       "    <tr>\n",
       "      <th>RH</th>\n",
       "      <td>0.149997</td>\n",
       "      <td>-0.069042</td>\n",
       "      <td>-0.086211</td>\n",
       "      <td>-0.091759</td>\n",
       "      <td>-0.027654</td>\n",
       "      <td>0.147627</td>\n",
       "      <td>-0.574889</td>\n",
       "      <td>1.000000</td>\n",
       "      <td>0.165301</td>\n",
       "    </tr>\n",
       "    <tr>\n",
       "      <th>AH</th>\n",
       "      <td>0.145952</td>\n",
       "      <td>0.207012</td>\n",
       "      <td>-0.228097</td>\n",
       "      <td>-0.335022</td>\n",
       "      <td>0.651306</td>\n",
       "      <td>0.077238</td>\n",
       "      <td>0.661295</td>\n",
       "      <td>0.165301</td>\n",
       "      <td>1.000000</td>\n",
       "    </tr>\n",
       "  </tbody>\n",
       "</table>\n",
       "</div>"
      ],
      "text/plain": [
       "               PT08.S1(CO)  PT08.S2(NMHC)  PT08.S3(NOx)   NO2(GT)  \\\n",
       "PT08.S1(CO)       1.000000       0.887255     -0.764753  0.641529   \n",
       "PT08.S2(NMHC)     0.887255       1.000000     -0.787482  0.646245   \n",
       "PT08.S3(NOx)     -0.764753      -0.787482      1.000000 -0.652083   \n",
       "NO2(GT)           0.641529       0.646245     -0.652083  1.000000   \n",
       "PT08.S4(NO2)      0.671479       0.773759     -0.519404  0.157360   \n",
       "PT08.S5(O3)       0.897387       0.877024     -0.792080  0.708128   \n",
       "T                 0.037803       0.244044     -0.125662 -0.186533   \n",
       "RH                0.149997      -0.069042     -0.086211 -0.091759   \n",
       "AH                0.145952       0.207012     -0.228097 -0.335022   \n",
       "\n",
       "               PT08.S4(NO2)  PT08.S5(O3)         T        RH        AH  \n",
       "PT08.S1(CO)        0.671479     0.897387  0.037803  0.149997  0.145952  \n",
       "PT08.S2(NMHC)      0.773759     0.877024  0.244044 -0.069042  0.207012  \n",
       "PT08.S3(NOx)      -0.519404    -0.792080 -0.125662 -0.086211 -0.228097  \n",
       "NO2(GT)            0.157360     0.708128 -0.186533 -0.091759 -0.335022  \n",
       "PT08.S4(NO2)       1.000000     0.576766  0.575516 -0.027654  0.651306  \n",
       "PT08.S5(O3)        0.576766     1.000000 -0.033249  0.147627  0.077238  \n",
       "T                  0.575516    -0.033249  1.000000 -0.574889  0.661295  \n",
       "RH                -0.027654     0.147627 -0.574889  1.000000  0.165301  \n",
       "AH                 0.651306     0.077238  0.661295  0.165301  1.000000  "
      ]
     },
     "execution_count": 7,
     "metadata": {},
     "output_type": "execute_result"
    },
    {
     "data": {
      "image/png": "[encoded data removed]",
      "text/plain": [
       "<Figure size 432x288 with 2 Axes>"
      ]
     },
     "metadata": {
      "needs_background": "light"
     },
     "output_type": "display_data"
    }
   ],
   "source": [
    "# Exploring the correlation between the features and the label shows that the feature PT08.S4(NO2) has a very weak \n",
    "# correlation of 0.15 with the label. However we chose to not drop this feature since in polynomial regression features\n",
    "# could be combined and maybe combining other features with PT08.S4(NO2) will yield a higher correlation to the label.\n",
    "corr=df.corr()\n",
    "sns.heatmap(corr)\n",
    "corr"
   ]
  },
  {
   "cell_type": "markdown",
   "metadata": {
    "id": "v7vinFJmuQYn"
   },
   "source": [
    "### 4- Replace date feature"
   ]
  },
  {
   "cell_type": "code",
   "execution_count": 8,
   "metadata": {
    "collapsed": true,
    "id": "e1X8-GXvuQYn"
   },
   "outputs": [
    {
     "data": {
      "text/plain": [
       "Index(['Time', 'PT08.S1(CO)', 'PT08.S2(NMHC)', 'PT08.S3(NOx)', 'NO2(GT)',\n",
       "       'PT08.S4(NO2)', 'PT08.S5(O3)', 'T', 'RH', 'AH', 'Day', 'Month', 'Year'],\n",
       "      dtype='object')"
      ]
     },
     "execution_count": 8,
     "metadata": {},
     "output_type": "execute_result"
    }
   ],
   "source": [
    "df['Date']=  pd.to_datetime(df['Date'])\n",
    "df[\"Day\"] = df['Date'].map(lambda x: x.day)\n",
    "df[\"Month\"] = df['Date'].map(lambda x: x.month)\n",
    "df[\"Year\"] = df['Date'].map(lambda x: x.year)\n",
    "df = df.drop(['Date'], axis = 1)\n",
    "df.columns"
   ]
  },
  {
   "cell_type": "markdown",
   "metadata": {
    "id": "zHvSGF9fuQYo"
   },
   "source": [
    "### 5- Replace time feature"
   ]
  },
  {
   "cell_type": "code",
   "execution_count": 9,
   "metadata": {
    "collapsed": true,
    "id": "vWqvEVdsuQYo"
   },
   "outputs": [
    {
     "data": {
      "text/plain": [
       "Index(['PT08.S1(CO)', 'PT08.S2(NMHC)', 'PT08.S3(NOx)', 'NO2(GT)',\n",
       "       'PT08.S4(NO2)', 'PT08.S5(O3)', 'T', 'RH', 'AH', 'Day', 'Month', 'Year',\n",
       "       'Hour'],\n",
       "      dtype='object')"
      ]
     },
     "execution_count": 9,
     "metadata": {},
     "output_type": "execute_result"
    }
   ],
   "source": [
    "# The time and seconds features were dropped since all entries of these columns are zeros.\n",
    "df[['Hour', 'Minutes', 'Seconds']] = df['Time'].str.split(':', expand=True)\n",
    "df = df.drop('Time', axis =1)\n",
    "df = df.drop('Minutes', axis =1)\n",
    "df = df.drop('Seconds', axis =1)\n",
    "df.columns"
   ]
  },
  {
   "cell_type": "markdown",
   "metadata": {
    "id": "rV0bYDXzuQYo"
   },
   "source": [
    "### 6- Apply feature scaling"
   ]
  },
  {
   "cell_type": "code",
   "execution_count": 10,
   "metadata": {
    "collapsed": true,
    "id": "qIgBH_d2uQYo"
   },
   "outputs": [],
   "source": [
    "# Feature scaling was applied here as per required, however since it is preferable to perform scaling\n",
    "# after choosing polynomial features, therefore in each of the models scaling was performed again.\n",
    "X = df.drop('NO2(GT)',axis=1)\n",
    "y = df['NO2(GT)']\n",
    "X_train, X_test, y_train, y_test = train_test_split(X, y, test_size=0.3, random_state=101)\n",
    "\n",
    "scaler = StandardScaler()\n",
    "scaled_X_train = scaler.fit_transform(X_train)\n",
    "scaled_X_test = scaler.transform(X_test)"
   ]
  },
  {
   "cell_type": "markdown",
   "metadata": {
    "id": "-Bh7ou_4uQYp"
   },
   "source": [
    "### 7- Evaluate different degrees of lasso CV polynomial regression"
   ]
  },
  {
   "cell_type": "code",
   "execution_count": 36,
   "metadata": {
    "collapsed": true,
    "id": "tLBRmfjuuQYp"
   },
   "outputs": [
    {
     "name": "stdout",
     "output_type": "stream",
     "text": [
      "Degree  1\n",
      "0.01\n",
      "Train RMSE:  22.104840743687802\n",
      "Test RMSE:  22.21665395034259\n",
      "Degree  2\n",
      "0.01\n",
      "Train RMSE:  18.746703651327106\n",
      "Test RMSE:  19.150863752386023\n",
      "Degree  3\n",
      "0.01\n",
      "Train RMSE:  16.915149815308407\n",
      "Test RMSE:  17.742909458639218\n",
      "Degree  4\n",
      "0.01\n",
      "Train RMSE:  16.02460763252204\n",
      "Test RMSE:  17.101217134262694\n",
      "Degree  5\n",
      "0.01\n",
      "Train RMSE:  15.317795532056403\n",
      "Test RMSE:  16.560255799941537\n",
      "Degree  6\n",
      "0.01\n",
      "Train RMSE:  14.756290251139786\n",
      "Test RMSE:  16.280293280425465\n"
     ]
    }
   ],
   "source": [
    "from sklearn.metrics import mean_absolute_error,mean_squared_error\n",
    "\n",
    "\n",
    "lasso_train_rmse_errors = []\n",
    "lasso_test_rmse_errors = []\n",
    "\n",
    "lasso_train_mse_errors = []\n",
    "lasso_test_mse_errors = []\n",
    "\n",
    "lasso_train_mae_errors = []\n",
    "lasso_test_mae_errors = []\n",
    "lasso_alphas = []\n",
    "\n",
    "for d in range(1,7):\n",
    "    \n",
    "    print(\"Degree \", d)\n",
    "    # CREATE POLY DATA SET FOR DEGREE \"d\"\n",
    "    polynomial_converter = PolynomialFeatures(degree=d,include_bias=False)\n",
    "    poly_features = polynomial_converter.fit_transform(X)\n",
    "    \n",
    "    # SPLIT THIS NEW POLY DATA SET\n",
    "    X_train, X_test, y_train, y_test = train_test_split(poly_features, y, test_size=0.3, random_state=101)\n",
    "\n",
    "    #Scaling\n",
    "    scaler = StandardScaler()\n",
    "    X_train = scaler.fit_transform(X_train)\n",
    "    X_test = scaler.transform(X_test)\n",
    "\n",
    "    # TRAIN ON THIS NEW POLY SET\n",
    "    lasso_cv_model = LassoCV(alphas=(0.01, 0.1, 1.0, 10), tol='0.01')\n",
    "    lasso_cv_model.fit(X_train,y_train)\n",
    "    print(lasso_cv_model.alpha_)\n",
    "    lasso_alphas.append(lasso_cv_model.alpha_)\n",
    "    # PREDICT ON BOTH TRAIN AND TEST\n",
    "    train_pred = lasso_cv_model.predict(X_train)\n",
    "    test_pred = lasso_cv_model.predict(X_test)\n",
    "    \n",
    "    # Calculate Errors\n",
    "    \n",
    "    # Errors on Train Set\n",
    "    train_RMSE = np.sqrt(mean_squared_error(y_train,train_pred))\n",
    "    train_MSE = mean_squared_error(y_train,train_pred)\n",
    "    train_MAE = mean_absolute_error(y_train,train_pred)\n",
    "    \n",
    "    # Errors on Test Set\n",
    "    test_RMSE = np.sqrt(mean_squared_error(y_test,test_pred))\n",
    "    test_MSE = mean_squared_error(y_test,test_pred)\n",
    "    test_MAE = mean_absolute_error(y_test,test_pred)\n",
    "\n",
    "    # Append errors to lists for plotting later\n",
    "    \n",
    "    print(\"Train RMSE: \", train_RMSE)\n",
    "    print(\"Test RMSE: \",test_RMSE)\n",
    "    lasso_train_rmse_errors.append(train_RMSE)\n",
    "    lasso_train_mse_errors.append(train_MSE)\n",
    "    lasso_train_mae_errors.append(train_MAE)\n",
    "\n",
    "    lasso_test_mae_errors.append(test_MAE)\n",
    "    lasso_test_rmse_errors.append(test_RMSE)\n",
    "    lasso_test_mse_errors.append(test_MSE)\n",
    "    "
   ]
  },
  {
   "cell_type": "markdown",
   "metadata": {
    "id": "pDn9gby-uQYp"
   },
   "source": [
    "### 8- Choose the best degree and print the errors, model coefficients and the lasso parameters."
   ]
  },
  {
   "cell_type": "code",
   "execution_count": 37,
   "metadata": {
    "collapsed": true,
    "id": "xLdmHaPBuQYq"
   },
   "outputs": [
    {
     "data": {
      "text/plain": [
       "<matplotlib.legend.Legend at 0x7fa521a9ceb0>"
      ]
     },
     "execution_count": 37,
     "metadata": {},
     "output_type": "execute_result"
    },
    {
     "data": {
      "image/png": "[encoded data removed]",
      "text/plain": [
       "<Figure size 432x288 with 1 Axes>"
      ]
     },
     "metadata": {
      "needs_background": "light"
     },
     "output_type": "display_data"
    }
   ],
   "source": [
    "plt.plot(range(1,7),lasso_train_rmse_errors,label='TRAIN')\n",
    "plt.plot(range(1,7),lasso_test_rmse_errors,label='TEST')\n",
    "plt.xlabel(\"Polynomial Complexity\")\n",
    "plt.ylabel(\"RMSE\")\n",
    "plt.title(\"Lasso - RMSE Error vs Polynomial\")\n",
    "plt.xticks([1,2,3,4,5, 6])\n",
    "plt.legend()"
   ]
  },
  {
   "cell_type": "code",
   "execution_count": 38,
   "metadata": {},
   "outputs": [
    {
     "name": "stdout",
     "output_type": "stream",
     "text": [
      "Train RMSE\n",
      "16.915149815308407\n",
      "Test RMSE\n",
      "17.742909458639218\n",
      "Train MAE\n",
      "12.476131256432254\n",
      "Test MAE\n",
      "12.67406038953971\n",
      "Alpha\n",
      "0.01\n"
     ]
    }
   ],
   "source": [
    "# Degree 3 will be chosen since higher degrees are showing a gap between the training set & test set (overfitting)\n",
    "print(\"Train RMSE\")\n",
    "print(lasso_train_rmse_errors[2])\n",
    "print(\"Test RMSE\")\n",
    "print(lasso_test_rmse_errors[2])\n",
    "\n",
    "print(\"Train MAE\")\n",
    "print(lasso_train_mae_errors[2])\n",
    "print(\"Test MAE\")\n",
    "print(lasso_test_mae_errors[2])\n",
    "\n",
    "print(\"Alpha\")\n",
    "print(lasso_alphas[2])"
   ]
  },
  {
   "cell_type": "markdown",
   "metadata": {
    "id": "M8SOg6KEuQYq"
   },
   "source": [
    "### 9a- Evaluate different degrees of Ridge CV polynomial regression"
   ]
  },
  {
   "cell_type": "code",
   "execution_count": 26,
   "metadata": {
    "collapsed": true,
    "id": "IqWaySbcuQYq"
   },
   "outputs": [
    {
     "name": "stdout",
     "output_type": "stream",
     "text": [
      "Degree  1\n",
      "Alpha: 1.0\n",
      "Train RMSE:  22.104446314771693\n",
      "Test RMSE:  22.225818653358594\n",
      "----------------\n",
      "Degree  2\n",
      "Alpha: 0.1\n",
      "Train RMSE:  18.310759338531735\n",
      "Test RMSE:  18.708606605294545\n",
      "----------------\n",
      "Degree  3\n",
      "Alpha: 0.1\n",
      "Train RMSE:  15.659403038696716\n",
      "Test RMSE:  17.0905176857675\n",
      "----------------\n",
      "Degree  4\n",
      "Alpha: 0.1\n",
      "Train RMSE:  13.503887450140917\n",
      "Test RMSE:  17.96461078033405\n",
      "----------------\n",
      "Degree  5\n",
      "Alpha: 0.1\n",
      "Train RMSE:  11.731232740162328\n",
      "Test RMSE:  21.67998847004954\n",
      "----------------\n",
      "Degree  6\n",
      "Alpha: 0.1\n",
      "Train RMSE:  10.256166753914332\n",
      "Test RMSE:  28.956825787876593\n",
      "----------------\n"
     ]
    }
   ],
   "source": [
    "from sklearn.metrics import mean_absolute_error,mean_squared_error\n",
    "\n",
    "\n",
    "train_rmse_errors = []\n",
    "test_rmse_errors = []\n",
    "alphas = []\n",
    "\n",
    "for d in range(1,7):\n",
    "    print(\"Degree \", d)\n",
    "    # CREATE POLY DATA SET FOR DEGREE \"d\"\n",
    "    polynomial_converter = PolynomialFeatures(degree=d,include_bias=False)\n",
    "    poly_features = polynomial_converter.fit_transform(X)\n",
    "    \n",
    "    # SPLIT THIS NEW POLY DATA SET\n",
    "    X_train, X_test, y_train, y_test = train_test_split(poly_features, y, test_size=0.3, random_state=101)\n",
    "\n",
    "    #Scaling\n",
    "    scaler = StandardScaler()\n",
    "    X_train = scaler.fit_transform(X_train)\n",
    "    X_test = scaler.transform(X_test)\n",
    "\n",
    "    # TRAIN ON THIS NEW POLY SET\n",
    "    # ridge_cv_model = RidgeCV(alphas=(0.1 ,1.0, 10))\n",
    "    ridge_cv_model = RidgeCV(alphas=(0.1, 1.0, 10.0),scoring='neg_mean_squared_error')\n",
    "    ridge_cv_model.fit(X_train,y_train)\n",
    "    print(\"Alpha:\", ridge_cv_model.alpha_)\n",
    "    alphas.append(ridge_cv_model.alpha_)\n",
    "    # PREDICT ON BOTH TRAIN AND TEST\n",
    "    train_pred = ridge_cv_model.predict(X_train)\n",
    "    test_pred = ridge_cv_model.predict(X_test)\n",
    "    \n",
    "    # Calculate Errors\n",
    "    \n",
    "    # Errors on Train Set\n",
    "    train_RMSE = np.sqrt(mean_squared_error(y_train,train_pred))\n",
    "    \n",
    "    # Errors on Test Set\n",
    "    test_RMSE = np.sqrt(mean_squared_error(y_test,test_pred))\n",
    "\n",
    "    # Append errors to lists for plotting later\n",
    "    \n",
    "    print(\"Train RMSE: \", train_RMSE)\n",
    "    print(\"Test RMSE: \", test_RMSE)\n",
    "    print(\"----------------\")\n",
    "    train_rmse_errors.append(train_RMSE)\n",
    "    test_rmse_errors.append(test_RMSE)"
   ]
  },
  {
   "cell_type": "markdown",
   "metadata": {
    "id": "8Bj_3j9RuQYr"
   },
   "source": [
    "### 9b- Choose the best degree and print the errors, model coefficients and the Ridge parameters."
   ]
  },
  {
   "cell_type": "code",
   "execution_count": 27,
   "metadata": {
    "collapsed": true,
    "id": "4q5E5NnbuQYr"
   },
   "outputs": [
    {
     "data": {
      "text/plain": [
       "<matplotlib.legend.Legend at 0x7fa4f032d880>"
      ]
     },
     "execution_count": 27,
     "metadata": {},
     "output_type": "execute_result"
    },
    {
     "data": {
      "image/png": "[encoded data removed]",
      "text/plain": [
       "<Figure size 432x288 with 1 Axes>"
      ]
     },
     "metadata": {
      "needs_background": "light"
     },
     "output_type": "display_data"
    }
   ],
   "source": [
    "plt.plot(range(1,7),train_rmse_errors,label='TRAIN')\n",
    "plt.plot(range(1,7),test_rmse_errors,label='TEST')\n",
    "plt.xlabel(\"Polynomial Complexity\")\n",
    "plt.ylabel(\"RMSE\")\n",
    "plt.title(\"Ridge - RMSE Error vs Polynomial\")\n",
    "plt.xticks([1,2,3,4,5, 6])\n",
    "plt.legend()"
   ]
  },
  {
   "cell_type": "code",
   "execution_count": 28,
   "metadata": {},
   "outputs": [
    {
     "name": "stdout",
     "output_type": "stream",
     "text": [
      "Train RMSE\n",
      "15.659403038696716\n",
      "Test RMSE\n",
      "17.0905176857675\n",
      "Alphas\n",
      "0.1\n"
     ]
    }
   ],
   "source": [
    "#Best degree is at degree 3 although there is a small gap between the training error and the test error\n",
    "#however both errors continued decreasing till the reached the 3rd degree. A higher degree than 3 resulted in\n",
    "# high levels of overfitting that caused the test error to jumo. \n",
    "print(\"Train RMSE\")\n",
    "print(train_rmse_errors[2])\n",
    "print(\"Test RMSE\")\n",
    "print(test_rmse_errors[2])\n",
    "print(\"Alphas\")\n",
    "print(alphas[2])\n"
   ]
  },
  {
   "cell_type": "markdown",
   "metadata": {
    "id": "MN4RwweLuQYr"
   },
   "source": [
    "### 10a- Evaluate different degrees of ElasticNet CV polynomial regression"
   ]
  },
  {
   "cell_type": "code",
   "execution_count": 30,
   "metadata": {
    "collapsed": true,
    "id": "qK9SePrtuQYr"
   },
   "outputs": [
    {
     "name": "stdout",
     "output_type": "stream",
     "text": [
      "Degree:  1\n",
      "Ratio:  1.0\n",
      "Train RMSE:  22.111111099032478\n",
      "Test RMSE:  22.170026638350155\n",
      "Degree:  2\n",
      "Ratio:  1.0\n",
      "Train RMSE:  19.112301273049184\n",
      "Test RMSE:  19.314435382887904\n",
      "Degree:  3\n",
      "Ratio:  1.0\n",
      "Train RMSE:  17.591269529048407\n",
      "Test RMSE:  18.131862497992064\n",
      "Degree:  4\n",
      "Ratio:  1.0\n",
      "Train RMSE:  16.871642294086474\n",
      "Test RMSE:  17.534256141064663\n",
      "Degree:  5\n",
      "Ratio:  0.99\n",
      "Train RMSE:  16.392686975263057\n",
      "Test RMSE:  17.276305075877517\n",
      "Degree:  6\n",
      "Ratio:  1.0\n",
      "Train RMSE:  15.980209657598406\n",
      "Test RMSE:  16.948998343883563\n"
     ]
    }
   ],
   "source": [
    "from sklearn.metrics import mean_absolute_error,mean_squared_error\n",
    "\n",
    "\n",
    "en_train_rmse_errors = []\n",
    "en_test_rmse_errors = []\n",
    "en_train_mae_errors = []\n",
    "en_test_mae_errors = []\n",
    "en_ratios = []\n",
    "\n",
    "for d in range(1,7):\n",
    "    print(\"Degree: \", d)\n",
    "    # CREATE POLY DATA SET FOR DEGREE \"d\"\n",
    "    polynomial_converter = PolynomialFeatures(degree=d,include_bias=False)\n",
    "    poly_features = polynomial_converter.fit_transform(X)\n",
    "    \n",
    "    # SPLIT THIS NEW POLY DATA SET\n",
    "    X_train, X_test, y_train, y_test = train_test_split(poly_features, y, test_size=0.3, random_state=101)\n",
    "\n",
    "    #Scaling\n",
    "    scaler = StandardScaler()\n",
    "    X_train = scaler.fit_transform(X_train)\n",
    "    X_test = scaler.transform(X_test)\n",
    "\n",
    "    # TRAIN ON THIS NEW POLY SET\n",
    "    elastic_model  = ElasticNetCV(l1_ratio=[.1, .5, .7,.9, .95, .99, 1],tol=0.01)\n",
    "    elastic_model .fit(X_train,y_train)\n",
    "    print(\"Ratio: \", elastic_model.l1_ratio_)\n",
    "    en_ratios.append(elastic_model.l1_ratio_)\n",
    "\n",
    "    # PREDICT ON BOTH TRAIN AND TEST\n",
    "    train_pred = elastic_model.predict(X_train)\n",
    "    test_pred = elastic_model.predict(X_test)\n",
    "    \n",
    "    # Calculate Errors\n",
    "    \n",
    "    # Errors on Train Set\n",
    "    train_RMSE = np.sqrt(mean_squared_error(y_train,train_pred))\n",
    "    train_MAE = mean_absolute_error(y_train,train_pred)\n",
    "    # Errors on Test Set\n",
    "    test_RMSE = np.sqrt(mean_squared_error(y_test,test_pred))\n",
    "    test_MAE = mean_absolute_error(y_test,test_pred)\n",
    "    \n",
    "\n",
    "    # Append errors to lists for plotting later\n",
    "    \n",
    "    print(\"Train RMSE: \",train_RMSE)\n",
    "    print(\"Test RMSE: \",test_RMSE)\n",
    "    en_train_rmse_errors.append(train_RMSE)\n",
    "    en_test_rmse_errors.append(test_RMSE)\n",
    "    en_train_mae_errors.append(train_MAE)\n",
    "    en_test_mae_errors.append(test_MAE)"
   ]
  },
  {
   "cell_type": "markdown",
   "metadata": {
    "id": "JSt5s73XuQYr"
   },
   "source": [
    "### 10b- Choose the best degree and print the errors, model coefficients and ElasticNet parameters."
   ]
  },
  {
   "cell_type": "code",
   "execution_count": 31,
   "metadata": {
    "collapsed": true,
    "id": "UkbcQLlLuQYr"
   },
   "outputs": [
    {
     "data": {
      "text/plain": [
       "<matplotlib.legend.Legend at 0x7fa4e06036d0>"
      ]
     },
     "execution_count": 31,
     "metadata": {},
     "output_type": "execute_result"
    },
    {
     "data": {
      "image/png": "[encoded data removed]",
      "text/plain": [
       "<Figure size 432x288 with 1 Axes>"
      ]
     },
     "metadata": {
      "needs_background": "light"
     },
     "output_type": "display_data"
    }
   ],
   "source": [
    "plt.plot(range(1,7),en_train_rmse_errors,label='TRAIN')\n",
    "plt.plot(range(1,7),en_test_rmse_errors,label='TEST')\n",
    "plt.xlabel(\"Polynomial Complexity\")\n",
    "plt.ylabel(\"RMSE\")\n",
    "plt.legend()"
   ]
  },
  {
   "cell_type": "code",
   "execution_count": 33,
   "metadata": {},
   "outputs": [
    {
     "name": "stdout",
     "output_type": "stream",
     "text": [
      "Train RMSE\n",
      "17.591269529048407\n",
      "Test RMSE\n",
      "18.131862497992064\n",
      "Train MAE\n",
      "12.962898134586052\n",
      "Test MAE\n",
      "13.030641531640667\n",
      "Ratio\n",
      "1.0\n"
     ]
    }
   ],
   "source": [
    "#Best degree is degree 3. Where the gap between the 2 rmse of the train & test set start to increase. So in order to avoid overfitting degree 3 will be chosen\n",
    "print(\"Train RMSE\")\n",
    "print(en_train_rmse_errors[2])\n",
    "print(\"Test RMSE\")\n",
    "print(en_test_rmse_errors[2])\n",
    "\n",
    "print(\"Train MAE\")\n",
    "print(en_train_mae_errors[2])\n",
    "print(\"Test MAE\")\n",
    "print(en_test_mae_errors[2])\n",
    "\n",
    "print(\"Ratio\")\n",
    "print(en_ratios[2])"
   ]
  },
  {
   "cell_type": "markdown",
   "metadata": {
    "id": "O_cuFINquQYs"
   },
   "source": [
    "### 11- Compare the errors from the 3 regularization techniques, and save the best model."
   ]
  },
  {
   "cell_type": "code",
   "execution_count": 34,
   "metadata": {
    "collapsed": true,
    "id": "qn58GoGpuQYs"
   },
   "outputs": [
    {
     "data": {
      "text/plain": [
       "0.1"
      ]
     },
     "execution_count": 34,
     "metadata": {},
     "output_type": "execute_result"
    },
    {
     "data": {
      "image/png": "[encoded data removed]",
      "text/plain": [
       "<Figure size 432x288 with 1 Axes>"
      ]
     },
     "metadata": {
      "needs_background": "light"
     },
     "output_type": "display_data"
    }
   ],
   "source": [
    "train_rmse = [16.92, 15.66, 17.6]\n",
    "test_rmse = [17.74, 17.1, 18.13]\n",
    "index = ['Lasso', 'Ridge', 'ElasticNet']\n",
    "df = pd.DataFrame({'Train': train_rmse, 'Test': test_rmse}, index=index)\n",
    "ax = df.plot.bar(rot=0)\n",
    "0.1"
   ]
  },
  {
   "cell_type": "markdown",
   "metadata": {
    "id": "IUGAAZY4uQYs"
   },
   "source": [
    "### 12- Load the best model and test it on a sample that you manually created it."
   ]
  },
  {
   "cell_type": "code",
   "execution_count": null,
   "metadata": {
    "collapsed": true,
    "id": "SIw1mo3kuQYs"
   },
   "outputs": [],
   "source": []
  },
  {
   "cell_type": "markdown",
   "metadata": {
    "id": "G3dUEoJjj-AK"
   },
   "source": [
    "## Great work!\n",
    "----"
   ]
  }
 ],
 "metadata": {
  "anaconda-cloud": {},
  "colab": {
   "provenance": []
  },
  "interpreter": {
   "hash": "94c0416a27a2be01afabedcc7d3b1cabbfb61c096f1ad2556824fef78ff764d6"
  },
  "kernelspec": {
   "display_name": "Python 3.9.12",
   "language": "python",
   "name": "python3"
  },
  "language_info": {
   "codemirror_mode": {
    "name": "ipython",
    "version": 3
   },
   "file_extension": ".py",
   "mimetype": "text/x-python",
   "name": "python",
   "nbconvert_exporter": "python",
   "pygments_lexer": "ipython3",
   "version": "3.9.12"
  }
 },
 "nbformat": 4,
 "nbformat_minor": 1
}
