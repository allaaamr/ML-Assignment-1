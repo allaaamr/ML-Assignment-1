{
 "cells": [
  {
   "cell_type": "markdown",
   "metadata": {
    "id": "nz_9QnWBj9_6"
   },
   "source": [
    "# Polynomial Regression Assignment (Please do not remove the output cells)"
   ]
  },
  {
   "cell_type": "markdown",
   "metadata": {
    "id": "oNtRAlw1uQYi"
   },
   "source": [
    "## The objective is to apply polynomial regression on the provided data using 3 regularization techniques"
   ]
  },
  {
   "cell_type": "markdown",
   "metadata": {
    "id": "0Sh_Oqa2j9_7"
   },
   "source": [
    "Tasks are defined below:\n",
    "1-  Read the dataset, and get acquainted with its features and labels. Check the link below for more details about the data.  \n",
    "https://archive.ics.uci.edu/ml/datasets/Air+Quality  \n",
    "\n",
    "2-  This dataset has 5 different output labels. For this assignment we only need the NO2 output. Please drop other outputs.  \n",
    "\n",
    "3-  Handle missing data similar to what was covered in tutorial 3.  \n",
    "\n",
    "4-  Replace the date feature with 3 separate features (Day, Month and Year).  \n",
    "\n",
    "5-  Replace the time feature with 3 separate features (Hours, Minutes and Seconds).  \n",
    "\n",
    "6-  Apply feature scaling.  \n",
    "\n",
    "7-  Evaluate different degrees of lasso CV polynomial regression.  \n",
    "\n",
    "8-  Choose the best degree and print the errors on the test data, model coefficients and the lasso parameters.  \n",
    "\n",
    "9-  Repeat steps 4 and 5 using Ridge CV polynomial regression.  \n",
    "\n",
    "10- Repeat steps 4 and 5 using ElasticNet CV polynomial regression.  \n",
    "\n",
    "11- Compare the errors from the 3 regularization techniques, and save the best model.  \n",
    "\n",
    "12- Load the best model and test it on a sample that you manually created it.  \n"
   ]
  },
  {
   "cell_type": "markdown",
   "metadata": {},
   "source": [
    "## Enter your IDs and Names below"
   ]
  },
  {
   "cell_type": "markdown",
   "metadata": {},
   "source": [
    "1-   Alaa Amr Abdelazeem 46-12699\n",
    "  \n",
    "2-   Salma Khalid Sherif 46-5953"
   ]
  },
  {
   "cell_type": "markdown",
   "metadata": {
    "id": "bsZFdAtSj9_8"
   },
   "source": [
    "\n",
    "### Imports"
   ]
  },
  {
   "cell_type": "code",
   "execution_count": 1,
   "metadata": {
    "collapsed": true,
    "id": "nuN2-J1bj9_9"
   },
   "outputs": [],
   "source": [
    "import matplotlib.pyplot as plt\n",
    "import seaborn as sns\n",
    "import pandas as pd\n",
    "import numpy as np\n",
    "from sklearn.preprocessing import StandardScaler\n",
    "from sklearn.model_selection import train_test_split\n",
    "from sklearn.linear_model import LassoCV\n",
    "from sklearn.linear_model import RidgeCV\n",
    "from sklearn.linear_model import ElasticNetCV\n",
    "from sklearn.preprocessing import PolynomialFeatures\n",
    "from sklearn.metrics import mean_absolute_error,mean_squared_error"
   ]
  },
  {
   "cell_type": "markdown",
   "metadata": {
    "id": "hszifOuTj9__"
   },
   "source": [
    "### 1- Read the data"
   ]
  },
  {
   "cell_type": "code",
   "execution_count": 2,
   "metadata": {
    "collapsed": true,
    "id": "ZzX469qmUTu2"
   },
   "outputs": [
    {
     "data": {
      "text/html": [
       "<div>\n",
       "<style scoped>\n",
       "    .dataframe tbody tr th:only-of-type {\n",
       "        vertical-align: middle;\n",
       "    }\n",
       "\n",
       "    .dataframe tbody tr th {\n",
       "        vertical-align: top;\n",
       "    }\n",
       "\n",
       "    .dataframe thead th {\n",
       "        text-align: right;\n",
       "    }\n",
       "</style>\n",
       "<table border=\"1\" class=\"dataframe\">\n",
       "  <thead>\n",
       "    <tr style=\"text-align: right;\">\n",
       "      <th></th>\n",
       "      <th>Date</th>\n",
       "      <th>Time</th>\n",
       "      <th>CO(GT)</th>\n",
       "      <th>PT08.S1(CO)</th>\n",
       "      <th>NMHC(GT)</th>\n",
       "      <th>C6H6(GT)</th>\n",
       "      <th>PT08.S2(NMHC)</th>\n",
       "      <th>NOx(GT)</th>\n",
       "      <th>PT08.S3(NOx)</th>\n",
       "      <th>NO2(GT)</th>\n",
       "      <th>PT08.S4(NO2)</th>\n",
       "      <th>PT08.S5(O3)</th>\n",
       "      <th>T</th>\n",
       "      <th>RH</th>\n",
       "      <th>AH</th>\n",
       "    </tr>\n",
       "  </thead>\n",
       "  <tbody>\n",
       "    <tr>\n",
       "      <th>0</th>\n",
       "      <td>3/10/2004</td>\n",
       "      <td>18:00:00</td>\n",
       "      <td>2.6</td>\n",
       "      <td>1360.0</td>\n",
       "      <td>150.0</td>\n",
       "      <td>11.9</td>\n",
       "      <td>1046.0</td>\n",
       "      <td>166.0</td>\n",
       "      <td>1056.0</td>\n",
       "      <td>113.0</td>\n",
       "      <td>1692.0</td>\n",
       "      <td>1268.0</td>\n",
       "      <td>13.6</td>\n",
       "      <td>48.9</td>\n",
       "      <td>0.7578</td>\n",
       "    </tr>\n",
       "    <tr>\n",
       "      <th>1</th>\n",
       "      <td>3/10/2004</td>\n",
       "      <td>19:00:00</td>\n",
       "      <td>2.0</td>\n",
       "      <td>1292.0</td>\n",
       "      <td>112.0</td>\n",
       "      <td>9.4</td>\n",
       "      <td>955.0</td>\n",
       "      <td>103.0</td>\n",
       "      <td>1174.0</td>\n",
       "      <td>92.0</td>\n",
       "      <td>1559.0</td>\n",
       "      <td>972.0</td>\n",
       "      <td>13.3</td>\n",
       "      <td>47.7</td>\n",
       "      <td>0.7255</td>\n",
       "    </tr>\n",
       "    <tr>\n",
       "      <th>2</th>\n",
       "      <td>3/10/2004</td>\n",
       "      <td>20:00:00</td>\n",
       "      <td>2.2</td>\n",
       "      <td>1402.0</td>\n",
       "      <td>88.0</td>\n",
       "      <td>9.0</td>\n",
       "      <td>939.0</td>\n",
       "      <td>131.0</td>\n",
       "      <td>1140.0</td>\n",
       "      <td>114.0</td>\n",
       "      <td>1555.0</td>\n",
       "      <td>1074.0</td>\n",
       "      <td>11.9</td>\n",
       "      <td>54.0</td>\n",
       "      <td>0.7502</td>\n",
       "    </tr>\n",
       "    <tr>\n",
       "      <th>3</th>\n",
       "      <td>3/10/2004</td>\n",
       "      <td>21:00:00</td>\n",
       "      <td>2.2</td>\n",
       "      <td>1376.0</td>\n",
       "      <td>80.0</td>\n",
       "      <td>9.2</td>\n",
       "      <td>948.0</td>\n",
       "      <td>172.0</td>\n",
       "      <td>1092.0</td>\n",
       "      <td>122.0</td>\n",
       "      <td>1584.0</td>\n",
       "      <td>1203.0</td>\n",
       "      <td>11.0</td>\n",
       "      <td>60.0</td>\n",
       "      <td>0.7867</td>\n",
       "    </tr>\n",
       "    <tr>\n",
       "      <th>4</th>\n",
       "      <td>3/10/2004</td>\n",
       "      <td>22:00:00</td>\n",
       "      <td>1.6</td>\n",
       "      <td>1272.0</td>\n",
       "      <td>51.0</td>\n",
       "      <td>6.5</td>\n",
       "      <td>836.0</td>\n",
       "      <td>131.0</td>\n",
       "      <td>1205.0</td>\n",
       "      <td>116.0</td>\n",
       "      <td>1490.0</td>\n",
       "      <td>1110.0</td>\n",
       "      <td>11.2</td>\n",
       "      <td>59.6</td>\n",
       "      <td>0.7888</td>\n",
       "    </tr>\n",
       "  </tbody>\n",
       "</table>\n",
       "</div>"
      ],
      "text/plain": [
       "        Date      Time  CO(GT)  PT08.S1(CO)  NMHC(GT)  C6H6(GT)  \\\n",
       "0  3/10/2004  18:00:00     2.6       1360.0     150.0      11.9   \n",
       "1  3/10/2004  19:00:00     2.0       1292.0     112.0       9.4   \n",
       "2  3/10/2004  20:00:00     2.2       1402.0      88.0       9.0   \n",
       "3  3/10/2004  21:00:00     2.2       1376.0      80.0       9.2   \n",
       "4  3/10/2004  22:00:00     1.6       1272.0      51.0       6.5   \n",
       "\n",
       "   PT08.S2(NMHC)  NOx(GT)  PT08.S3(NOx)  NO2(GT)  PT08.S4(NO2)  PT08.S5(O3)  \\\n",
       "0         1046.0    166.0        1056.0    113.0        1692.0       1268.0   \n",
       "1          955.0    103.0        1174.0     92.0        1559.0        972.0   \n",
       "2          939.0    131.0        1140.0    114.0        1555.0       1074.0   \n",
       "3          948.0    172.0        1092.0    122.0        1584.0       1203.0   \n",
       "4          836.0    131.0        1205.0    116.0        1490.0       1110.0   \n",
       "\n",
       "      T    RH      AH  \n",
       "0  13.6  48.9  0.7578  \n",
       "1  13.3  47.7  0.7255  \n",
       "2  11.9  54.0  0.7502  \n",
       "3  11.0  60.0  0.7867  \n",
       "4  11.2  59.6  0.7888  "
      ]
     },
     "execution_count": 2,
     "metadata": {},
     "output_type": "execute_result"
    }
   ],
   "source": [
    "df = pd.read_csv('AirQualityUCI.csv')\n",
    "df.head()"
   ]
  },
  {
   "cell_type": "markdown",
   "metadata": {
    "id": "TMHFhOfXuQYl"
   },
   "source": [
    "### 2- Drop unwanted labels"
   ]
  },
  {
   "cell_type": "code",
   "execution_count": 3,
   "metadata": {
    "collapsed": true,
    "id": "L7395CTWuQYm"
   },
   "outputs": [
    {
     "data": {
      "text/plain": [
       "Index(['Date', 'Time', 'CO(GT)', 'PT08.S1(CO)', 'NMHC(GT)', 'C6H6(GT)',\n",
       "       'PT08.S2(NMHC)', 'NOx(GT)', 'PT08.S3(NOx)', 'NO2(GT)', 'PT08.S4(NO2)',\n",
       "       'PT08.S5(O3)', 'T', 'RH', 'AH'],\n",
       "      dtype='object')"
      ]
     },
     "execution_count": 3,
     "metadata": {},
     "output_type": "execute_result"
    }
   ],
   "source": [
    "df.columns"
   ]
  },
  {
   "cell_type": "code",
   "execution_count": 4,
   "metadata": {},
   "outputs": [],
   "source": [
    "df = df.drop(['CO(GT)', 'NMHC(GT)', 'C6H6(GT)', 'NOx(GT)'], axis = 1)"
   ]
  },
  {
   "cell_type": "markdown",
   "metadata": {
    "id": "rMSYDzn1uQYm"
   },
   "source": [
    "### 3- Handle missing data"
   ]
  },
  {
   "cell_type": "code",
   "execution_count": 5,
   "metadata": {
    "collapsed": true,
    "id": "FEai7yH9uQYn"
   },
   "outputs": [
    {
     "data": {
      "text/plain": [
       "Date              0.00000\n",
       "Time              0.00000\n",
       "PT08.S1(CO)       3.91151\n",
       "PT08.S2(NMHC)     3.91151\n",
       "PT08.S3(NOx)      3.91151\n",
       "NO2(GT)          17.54836\n",
       "PT08.S4(NO2)      3.91151\n",
       "PT08.S5(O3)       3.91151\n",
       "T                 3.91151\n",
       "RH                3.91151\n",
       "AH                3.91151\n",
       "dtype: float64"
      ]
     },
     "execution_count": 5,
     "metadata": {},
     "output_type": "execute_result"
    }
   ],
   "source": [
    "df.isnull().mean()*100"
   ]
  },
  {
   "cell_type": "code",
   "execution_count": 6,
   "metadata": {},
   "outputs": [
    {
     "data": {
      "text/plain": [
       "Date              0.000000\n",
       "Time              0.000000\n",
       "PT08.S1(CO)       0.000000\n",
       "PT08.S2(NMHC)     0.000000\n",
       "PT08.S3(NOx)      0.000000\n",
       "NO2(GT)          17.773329\n",
       "PT08.S4(NO2)      0.000000\n",
       "PT08.S5(O3)       0.000000\n",
       "T                 0.000000\n",
       "RH                0.000000\n",
       "AH                0.000000\n",
       "dtype: float64"
      ]
     },
     "execution_count": 6,
     "metadata": {},
     "output_type": "execute_result"
    }
   ],
   "source": [
    "df = df.dropna(axis=0,subset= ['PT08.S4(NO2)'])\n",
    "df.isnull().mean()*100"
   ]
  },
  {
   "cell_type": "code",
   "execution_count": 7,
   "metadata": {},
   "outputs": [],
   "source": [
    "df['NO2(GT)']= df.groupby('Date')['NO2(GT)'].transform(lambda val: val.fillna(val.mean()))\n"
   ]
  },
  {
   "cell_type": "code",
   "execution_count": 8,
   "metadata": {},
   "outputs": [
    {
     "data": {
      "text/plain": [
       "Date             0.0\n",
       "Time             0.0\n",
       "PT08.S1(CO)      0.0\n",
       "PT08.S2(NMHC)    0.0\n",
       "PT08.S3(NOx)     0.0\n",
       "NO2(GT)          0.0\n",
       "PT08.S4(NO2)     0.0\n",
       "PT08.S5(O3)      0.0\n",
       "T                0.0\n",
       "RH               0.0\n",
       "AH               0.0\n",
       "dtype: float64"
      ]
     },
     "execution_count": 8,
     "metadata": {},
     "output_type": "execute_result"
    }
   ],
   "source": [
    "df = df.dropna(axis=0,subset= ['NO2(GT)'])\n",
    "df.isnull().mean()*100"
   ]
  },
  {
   "cell_type": "code",
   "execution_count": 9,
   "metadata": {},
   "outputs": [
    {
     "data": {
      "text/plain": [
       "0.6836256448554843"
      ]
     },
     "execution_count": 9,
     "metadata": {},
     "output_type": "execute_result"
    },
    {
     "data": {
      "image/png": "[encoded data removed]",
      "text/plain": [
       "<Figure size 432x288 with 1 Axes>"
      ]
     },
     "metadata": {
      "needs_background": "light"
     },
     "output_type": "display_data"
    }
   ],
   "source": [
    "df.plot.scatter(x = 'PT08.S5(O3)', y = 'NO2(GT)')\n",
    "corr  = df['PT08.S5(O3)'].corr(df['NO2(GT)'])\n",
    "corr"
   ]
  },
  {
   "cell_type": "markdown",
   "metadata": {
    "id": "v7vinFJmuQYn"
   },
   "source": [
    "### 4- Replace date feature"
   ]
  },
  {
   "cell_type": "code",
   "execution_count": 10,
   "metadata": {
    "collapsed": true,
    "id": "e1X8-GXvuQYn"
   },
   "outputs": [
    {
     "data": {
      "text/plain": [
       "Index(['Time', 'PT08.S1(CO)', 'PT08.S2(NMHC)', 'PT08.S3(NOx)', 'NO2(GT)',\n",
       "       'PT08.S4(NO2)', 'PT08.S5(O3)', 'T', 'RH', 'AH', 'Day', 'Month', 'Year'],\n",
       "      dtype='object')"
      ]
     },
     "execution_count": 10,
     "metadata": {},
     "output_type": "execute_result"
    }
   ],
   "source": [
    "df['Date']=  pd.to_datetime(df['Date'])\n",
    "df[\"Day\"] = df['Date'].map(lambda x: x.day)\n",
    "df[\"Month\"] = df['Date'].map(lambda x: x.month)\n",
    "df[\"Year\"] = df['Date'].map(lambda x: x.year)\n",
    "df = df.drop(['Date'], axis = 1)\n",
    "df.columns"
   ]
  },
  {
   "cell_type": "markdown",
   "metadata": {
    "id": "zHvSGF9fuQYo"
   },
   "source": [
    "### 5- Replace time feature"
   ]
  },
  {
   "cell_type": "code",
   "execution_count": 11,
   "metadata": {
    "collapsed": true,
    "id": "vWqvEVdsuQYo"
   },
   "outputs": [],
   "source": [
    "df[['Hour', 'Minutes', 'Seconds']] = df['Time'].str.split(':', expand=True)\n",
    "df['Hour']\n",
    "df = df.drop('Time', axis =1)"
   ]
  },
  {
   "cell_type": "markdown",
   "metadata": {
    "id": "rV0bYDXzuQYo"
   },
   "source": [
    "### 6- Apply feature scaling"
   ]
  },
  {
   "cell_type": "code",
   "execution_count": 12,
   "metadata": {
    "collapsed": true,
    "id": "qIgBH_d2uQYo"
   },
   "outputs": [],
   "source": [
    "X = df.drop('NO2(GT)',axis=1)\n",
    "y = df['NO2(GT)']\n",
    "X_train, X_test, y_train, y_test = train_test_split(X, y, test_size=0.3, random_state=101)\n",
    "\n",
    "scaler = StandardScaler()\n",
    "scaled_X_train = scaler.fit_transform(X_train)\n",
    "scaled_X_test = scaler.transform(X_test)"
   ]
  },
  {
   "cell_type": "markdown",
   "metadata": {
    "id": "-Bh7ou_4uQYp"
   },
   "source": [
    "### 7- Evaluate different degrees of lasso CV polynomial regression"
   ]
  },
  {
   "cell_type": "code",
   "execution_count": 14,
   "metadata": {
    "collapsed": true,
    "id": "tLBRmfjuuQYp"
   },
   "outputs": [
    {
     "name": "stdout",
     "output_type": "stream",
     "text": [
      "0.1\n",
      "24.80434949764937\n",
      "24.550197343506174\n"
     ]
    },
    {
     "name": "stderr",
     "output_type": "stream",
     "text": [
      "/Users/alaaabdelazeem/opt/anaconda3/lib/python3.9/site-packages/sklearn/linear_model/_coordinate_descent.py:633: ConvergenceWarning: Objective did not converge. You might want to increase the number of iterations. Duality gap: 4723.759791050106, tolerance: 989.2089260409275\n",
      "  model = cd_fast.enet_coordinate_descent_gram(\n",
      "/Users/alaaabdelazeem/opt/anaconda3/lib/python3.9/site-packages/sklearn/linear_model/_coordinate_descent.py:633: ConvergenceWarning: Objective did not converge. You might want to increase the number of iterations. Duality gap: 7054.421565424651, tolerance: 971.4647787368743\n",
      "  model = cd_fast.enet_coordinate_descent_gram(\n",
      "/Users/alaaabdelazeem/opt/anaconda3/lib/python3.9/site-packages/sklearn/linear_model/_coordinate_descent.py:633: ConvergenceWarning: Objective did not converge. You might want to increase the number of iterations. Duality gap: 8418.21749614738, tolerance: 986.8698144758378\n",
      "  model = cd_fast.enet_coordinate_descent_gram(\n",
      "/Users/alaaabdelazeem/opt/anaconda3/lib/python3.9/site-packages/sklearn/linear_model/_coordinate_descent.py:633: ConvergenceWarning: Objective did not converge. You might want to increase the number of iterations. Duality gap: 21934.352874930482, tolerance: 978.8358060896873\n",
      "  model = cd_fast.enet_coordinate_descent_gram(\n",
      "/Users/alaaabdelazeem/opt/anaconda3/lib/python3.9/site-packages/sklearn/linear_model/_coordinate_descent.py:633: ConvergenceWarning: Objective did not converge. You might want to increase the number of iterations. Duality gap: 6535.932047569193, tolerance: 987.18699189635\n",
      "  model = cd_fast.enet_coordinate_descent_gram(\n"
     ]
    },
    {
     "name": "stdout",
     "output_type": "stream",
     "text": [
      "0.1\n",
      "22.74978173787489\n",
      "22.74951717147139\n"
     ]
    },
    {
     "name": "stderr",
     "output_type": "stream",
     "text": [
      "/Users/alaaabdelazeem/opt/anaconda3/lib/python3.9/site-packages/sklearn/linear_model/_coordinate_descent.py:633: ConvergenceWarning: Objective did not converge. You might want to increase the number of iterations. Duality gap: 8145.369008954382, tolerance: 989.2089260409275\n",
      "  model = cd_fast.enet_coordinate_descent_gram(\n",
      "/Users/alaaabdelazeem/opt/anaconda3/lib/python3.9/site-packages/sklearn/linear_model/_coordinate_descent.py:633: ConvergenceWarning: Objective did not converge. You might want to increase the number of iterations. Duality gap: 18833.2282459992, tolerance: 971.4647787368743\n",
      "  model = cd_fast.enet_coordinate_descent_gram(\n",
      "/Users/alaaabdelazeem/opt/anaconda3/lib/python3.9/site-packages/sklearn/linear_model/_coordinate_descent.py:633: ConvergenceWarning: Objective did not converge. You might want to increase the number of iterations. Duality gap: 16092.76238352689, tolerance: 986.8698144758378\n",
      "  model = cd_fast.enet_coordinate_descent_gram(\n",
      "/Users/alaaabdelazeem/opt/anaconda3/lib/python3.9/site-packages/sklearn/linear_model/_coordinate_descent.py:633: ConvergenceWarning: Objective did not converge. You might want to increase the number of iterations. Duality gap: 15761.890616899356, tolerance: 978.8358060896873\n",
      "  model = cd_fast.enet_coordinate_descent_gram(\n",
      "/Users/alaaabdelazeem/opt/anaconda3/lib/python3.9/site-packages/sklearn/linear_model/_coordinate_descent.py:633: ConvergenceWarning: Objective did not converge. You might want to increase the number of iterations. Duality gap: 14626.910774044693, tolerance: 987.18699189635\n",
      "  model = cd_fast.enet_coordinate_descent_gram(\n",
      "/Users/alaaabdelazeem/opt/anaconda3/lib/python3.9/site-packages/sklearn/linear_model/_coordinate_descent.py:647: ConvergenceWarning: Objective did not converge. You might want to increase the number of iterations, check the scale of the features or consider increasing regularisation. Duality gap: 1.966e+04, tolerance: 1.228e+03\n",
      "  model = cd_fast.enet_coordinate_descent(\n"
     ]
    },
    {
     "name": "stdout",
     "output_type": "stream",
     "text": [
      "0.1\n",
      "21.961293683600104\n",
      "22.15298222574657\n"
     ]
    },
    {
     "name": "stderr",
     "output_type": "stream",
     "text": [
      "/Users/alaaabdelazeem/opt/anaconda3/lib/python3.9/site-packages/sklearn/linear_model/_coordinate_descent.py:633: ConvergenceWarning: Objective did not converge. You might want to increase the number of iterations. Duality gap: 9520.174549510237, tolerance: 989.2089260409275\n",
      "  model = cd_fast.enet_coordinate_descent_gram(\n",
      "/Users/alaaabdelazeem/opt/anaconda3/lib/python3.9/site-packages/sklearn/linear_model/_coordinate_descent.py:633: ConvergenceWarning: Objective did not converge. You might want to increase the number of iterations. Duality gap: 12741.022314921487, tolerance: 971.4647787368743\n",
      "  model = cd_fast.enet_coordinate_descent_gram(\n",
      "/Users/alaaabdelazeem/opt/anaconda3/lib/python3.9/site-packages/sklearn/linear_model/_coordinate_descent.py:633: ConvergenceWarning: Objective did not converge. You might want to increase the number of iterations. Duality gap: 12380.329718774185, tolerance: 986.8698144758378\n",
      "  model = cd_fast.enet_coordinate_descent_gram(\n",
      "/Users/alaaabdelazeem/opt/anaconda3/lib/python3.9/site-packages/sklearn/linear_model/_coordinate_descent.py:633: ConvergenceWarning: Objective did not converge. You might want to increase the number of iterations. Duality gap: 14110.51025413908, tolerance: 978.8358060896873\n",
      "  model = cd_fast.enet_coordinate_descent_gram(\n",
      "/Users/alaaabdelazeem/opt/anaconda3/lib/python3.9/site-packages/sklearn/linear_model/_coordinate_descent.py:633: ConvergenceWarning: Objective did not converge. You might want to increase the number of iterations. Duality gap: 8342.752065058332, tolerance: 987.18699189635\n",
      "  model = cd_fast.enet_coordinate_descent_gram(\n",
      "/Users/alaaabdelazeem/opt/anaconda3/lib/python3.9/site-packages/sklearn/linear_model/_coordinate_descent.py:647: ConvergenceWarning: Objective did not converge. You might want to increase the number of iterations, check the scale of the features or consider increasing regularisation. Duality gap: 1.076e+04, tolerance: 1.228e+03\n",
      "  model = cd_fast.enet_coordinate_descent(\n"
     ]
    },
    {
     "name": "stdout",
     "output_type": "stream",
     "text": [
      "0.1\n",
      "21.304756063335965\n",
      "21.656080492751283\n"
     ]
    },
    {
     "name": "stderr",
     "output_type": "stream",
     "text": [
      "/Users/alaaabdelazeem/opt/anaconda3/lib/python3.9/site-packages/sklearn/linear_model/_coordinate_descent.py:647: ConvergenceWarning: Objective did not converge. You might want to increase the number of iterations, check the scale of the features or consider increasing regularisation. Duality gap: 1.218e+04, tolerance: 9.892e+02\n",
      "  model = cd_fast.enet_coordinate_descent(\n",
      "/Users/alaaabdelazeem/opt/anaconda3/lib/python3.9/site-packages/sklearn/linear_model/_coordinate_descent.py:647: ConvergenceWarning: Objective did not converge. You might want to increase the number of iterations, check the scale of the features or consider increasing regularisation. Duality gap: 8.477e+03, tolerance: 9.715e+02\n",
      "  model = cd_fast.enet_coordinate_descent(\n",
      "/Users/alaaabdelazeem/opt/anaconda3/lib/python3.9/site-packages/sklearn/linear_model/_coordinate_descent.py:647: ConvergenceWarning: Objective did not converge. You might want to increase the number of iterations, check the scale of the features or consider increasing regularisation. Duality gap: 1.325e+04, tolerance: 9.869e+02\n",
      "  model = cd_fast.enet_coordinate_descent(\n",
      "/Users/alaaabdelazeem/opt/anaconda3/lib/python3.9/site-packages/sklearn/linear_model/_coordinate_descent.py:647: ConvergenceWarning: Objective did not converge. You might want to increase the number of iterations, check the scale of the features or consider increasing regularisation. Duality gap: 8.237e+03, tolerance: 9.788e+02\n",
      "  model = cd_fast.enet_coordinate_descent(\n",
      "/Users/alaaabdelazeem/opt/anaconda3/lib/python3.9/site-packages/sklearn/linear_model/_coordinate_descent.py:647: ConvergenceWarning: Objective did not converge. You might want to increase the number of iterations, check the scale of the features or consider increasing regularisation. Duality gap: 1.731e+04, tolerance: 9.872e+02\n",
      "  model = cd_fast.enet_coordinate_descent(\n",
      "/Users/alaaabdelazeem/opt/anaconda3/lib/python3.9/site-packages/sklearn/linear_model/_coordinate_descent.py:647: ConvergenceWarning: Objective did not converge. You might want to increase the number of iterations, check the scale of the features or consider increasing regularisation. Duality gap: 1.491e+04, tolerance: 1.228e+03\n",
      "  model = cd_fast.enet_coordinate_descent(\n"
     ]
    },
    {
     "name": "stdout",
     "output_type": "stream",
     "text": [
      "0.1\n",
      "20.865167360862927\n",
      "21.298542106735038\n"
     ]
    },
    {
     "name": "stderr",
     "output_type": "stream",
     "text": [
      "/Users/alaaabdelazeem/opt/anaconda3/lib/python3.9/site-packages/sklearn/linear_model/_coordinate_descent.py:647: ConvergenceWarning: Objective did not converge. You might want to increase the number of iterations, check the scale of the features or consider increasing regularisation. Duality gap: 2.147e+04, tolerance: 9.892e+02\n",
      "  model = cd_fast.enet_coordinate_descent(\n",
      "/Users/alaaabdelazeem/opt/anaconda3/lib/python3.9/site-packages/sklearn/linear_model/_coordinate_descent.py:647: ConvergenceWarning: Objective did not converge. You might want to increase the number of iterations, check the scale of the features or consider increasing regularisation. Duality gap: 1.860e+04, tolerance: 9.715e+02\n",
      "  model = cd_fast.enet_coordinate_descent(\n",
      "/Users/alaaabdelazeem/opt/anaconda3/lib/python3.9/site-packages/sklearn/linear_model/_coordinate_descent.py:647: ConvergenceWarning: Objective did not converge. You might want to increase the number of iterations, check the scale of the features or consider increasing regularisation. Duality gap: 2.319e+04, tolerance: 9.869e+02\n",
      "  model = cd_fast.enet_coordinate_descent(\n",
      "/Users/alaaabdelazeem/opt/anaconda3/lib/python3.9/site-packages/sklearn/linear_model/_coordinate_descent.py:647: ConvergenceWarning: Objective did not converge. You might want to increase the number of iterations, check the scale of the features or consider increasing regularisation. Duality gap: 1.980e+04, tolerance: 9.788e+02\n",
      "  model = cd_fast.enet_coordinate_descent(\n",
      "/Users/alaaabdelazeem/opt/anaconda3/lib/python3.9/site-packages/sklearn/linear_model/_coordinate_descent.py:647: ConvergenceWarning: Objective did not converge. You might want to increase the number of iterations, check the scale of the features or consider increasing regularisation. Duality gap: 3.037e+04, tolerance: 9.872e+02\n",
      "  model = cd_fast.enet_coordinate_descent(\n",
      "/Users/alaaabdelazeem/opt/anaconda3/lib/python3.9/site-packages/sklearn/linear_model/_coordinate_descent.py:647: ConvergenceWarning: Objective did not converge. You might want to increase the number of iterations, check the scale of the features or consider increasing regularisation. Duality gap: 3.431e+04, tolerance: 1.228e+03\n",
      "  model = cd_fast.enet_coordinate_descent(\n"
     ]
    },
    {
     "name": "stdout",
     "output_type": "stream",
     "text": [
      "0.1\n",
      "20.562101372440175\n",
      "21.044211534023447\n"
     ]
    }
   ],
   "source": [
    "from sklearn.metrics import mean_absolute_error,mean_squared_error\n",
    "\n",
    "\n",
    "lasso_train_rmse_errors = []\n",
    "lasso_test_rmse_errors = []\n",
    "\n",
    "lasso_train_mse_errors = []\n",
    "lasso_test_mse_errors = []\n",
    "\n",
    "lasso_train_mae_errors = []\n",
    "lasso_test_mae_errors = []\n",
    "lasso_alphas = []\n",
    "\n",
    "for d in range(1,7):\n",
    "    \n",
    "    # CREATE POLY DATA SET FOR DEGREE \"d\"\n",
    "    polynomial_converter = PolynomialFeatures(degree=d,include_bias=False)\n",
    "    poly_features = polynomial_converter.fit_transform(X)\n",
    "    \n",
    "    # SPLIT THIS NEW POLY DATA SET\n",
    "    X_train, X_test, y_train, y_test = train_test_split(poly_features, y, test_size=0.3, random_state=101)\n",
    "\n",
    "    #Scaling\n",
    "    scaler = StandardScaler()\n",
    "    X_train = scaler.fit_transform(X_train)\n",
    "    X_test = scaler.transform(X_test)\n",
    "\n",
    "    # TRAIN ON THIS NEW POLY SET\n",
    "    lasso_cv_model = LassoCV(alphas=(0.1, 1.0, 10.0))\n",
    "    lasso_cv_model.fit(X_train,y_train)\n",
    "    print(lasso_cv_model.alpha_)\n",
    "    lasso_alphas.append(lasso_cv_model.alpha_)\n",
    "    # PREDICT ON BOTH TRAIN AND TEST\n",
    "    train_pred = lasso_cv_model.predict(X_train)\n",
    "    test_pred = lasso_cv_model.predict(X_test)\n",
    "    \n",
    "    # Calculate Errors\n",
    "    \n",
    "    # Errors on Train Set\n",
    "    train_RMSE = np.sqrt(mean_squared_error(y_train,train_pred))\n",
    "    train_MSE = mean_squared_error(y_train,train_pred)\n",
    "    train_MAE = mean_absolute_error(y_train,train_pred)\n",
    "    \n",
    "    # Errors on Test Set\n",
    "    test_RMSE = np.sqrt(mean_squared_error(y_test,test_pred))\n",
    "    test_MSE = mean_squared_error(y_test,test_pred)\n",
    "    test_MAE = mean_absolute_error(y_test,test_pred)\n",
    "\n",
    "    # Append errors to lists for plotting later\n",
    "    \n",
    "    print(train_RMSE)\n",
    "    print(test_RMSE)\n",
    "    lasso_train_rmse_errors.append(train_RMSE)\n",
    "    lasso_train_mse_errors.append(train_MSE)\n",
    "    lasso_train_mae_errors.append(train_MAE)\n",
    "\n",
    "    lasso_test_mae_errors.append(test_MAE)\n",
    "    lasso_test_rmse_errors.append(test_RMSE)\n",
    "    lasso_test_mse_errors.append(test_MSE)\n",
    "    "
   ]
  },
  {
   "cell_type": "markdown",
   "metadata": {
    "id": "pDn9gby-uQYp"
   },
   "source": [
    "### 8- Choose the best degree and print the errors, model coefficients and the lasso parameters."
   ]
  },
  {
   "cell_type": "code",
   "execution_count": 16,
   "metadata": {
    "collapsed": true,
    "id": "xLdmHaPBuQYq"
   },
   "outputs": [
    {
     "data": {
      "text/plain": [
       "<matplotlib.legend.Legend at 0x7fb78ac7b550>"
      ]
     },
     "execution_count": 16,
     "metadata": {},
     "output_type": "execute_result"
    },
    {
     "data": {
      "image/png": "[encoded data removed]",
      "text/plain": [
       "<Figure size 432x288 with 1 Axes>"
      ]
     },
     "metadata": {
      "needs_background": "light"
     },
     "output_type": "display_data"
    }
   ],
   "source": [
    "plt.plot(range(1,7),lasso_train_rmse_errors,label='TRAIN')\n",
    "plt.plot(range(1,7),lasso_test_rmse_errors,label='TEST')\n",
    "plt.xlabel(\"Polynomial Complexity\")\n",
    "plt.ylabel(\"RMSE\")\n",
    "plt.legend()"
   ]
  },
  {
   "cell_type": "code",
   "execution_count": 19,
   "metadata": {},
   "outputs": [
    {
     "name": "stdout",
     "output_type": "stream",
     "text": [
      "Train RMSE\n",
      "20.562101372440175\n",
      "Test RMSE\n",
      "21.044211534023447\n",
      "Train MAE\n",
      "15.151199640046757\n",
      "Test MAE\n",
      "15.68129524429318\n",
      "Alpha\n",
      "0.1\n"
     ]
    }
   ],
   "source": [
    "#Best degree is degree 6\n",
    "print(\"Train RMSE\")\n",
    "print(lasso_train_rmse_errors[5])\n",
    "print(\"Test RMSE\")\n",
    "print(lasso_test_rmse_errors[5])\n",
    "\n",
    "print(\"Train MAE\")\n",
    "print(lasso_train_mae_errors[5])\n",
    "print(\"Test MAE\")\n",
    "print(lasso_test_mae_errors[5])\n",
    "\n",
    "print(\"Alpha\")\n",
    "print(lasso_alphas[5])"
   ]
  },
  {
   "cell_type": "markdown",
   "metadata": {
    "id": "M8SOg6KEuQYq"
   },
   "source": [
    "### 9a- Evaluate different degrees of Ridge CV polynomial regression"
   ]
  },
  {
   "cell_type": "code",
   "execution_count": null,
   "metadata": {
    "collapsed": true,
    "id": "IqWaySbcuQYq"
   },
   "outputs": [
    {
     "name": "stdout",
     "output_type": "stream",
     "text": [
      "1.0\n",
      "24.784197773339486\n",
      "24.560971256333875\n",
      "0.1\n",
      "21.492294329272916\n",
      "21.759105116561138\n",
      "0.1\n",
      "19.12612583073843\n",
      "21.084378575050508\n",
      "0.1\n",
      "17.182544425713274\n",
      "20.389708060166907\n",
      "1.0\n",
      "16.856164849489694\n",
      "20.151750122704136\n",
      "10.0\n",
      "17.028587922185757\n",
      "19.90732464097144\n",
      "10.0\n",
      "15.960321924525259\n",
      "20.579182767288557\n"
     ]
    }
   ],
   "source": [
    "from sklearn.metrics import mean_absolute_error,mean_squared_error\n",
    "\n",
    "\n",
    "train_rmse_errors = []\n",
    "test_rmse_errors = []\n",
    "alphas = []\n",
    "\n",
    "for d in range(1,8):\n",
    "    \n",
    "    # CREATE POLY DATA SET FOR DEGREE \"d\"\n",
    "    polynomial_converter = PolynomialFeatures(degree=d,include_bias=False)\n",
    "    poly_features = polynomial_converter.fit_transform(X)\n",
    "    \n",
    "    # SPLIT THIS NEW POLY DATA SET\n",
    "    X_train, X_test, y_train, y_test = train_test_split(poly_features, y, test_size=0.3, random_state=101)\n",
    "\n",
    "    #Scaling\n",
    "    scaler = StandardScaler()\n",
    "    X_train = scaler.fit_transform(X_train)\n",
    "    X_test = scaler.transform(X_test)\n",
    "\n",
    "    # TRAIN ON THIS NEW POLY SET\n",
    "    ridge_cv_model = RidgeCV(alphas=(0.1, 1.0, 10.0))\n",
    "    ridge_cv_model.fit(X_train,y_train)\n",
    "    print(ridge_cv_model.alpha_)\n",
    "    alphas.append(ridge_cv_model.alpha_)\n",
    "    # PREDICT ON BOTH TRAIN AND TEST\n",
    "    train_pred = ridge_cv_model.predict(X_train)\n",
    "    test_pred = ridge_cv_model.predict(X_test)\n",
    "    \n",
    "    # Calculate Errors\n",
    "    \n",
    "    # Errors on Train Set\n",
    "    train_RMSE = np.sqrt(mean_squared_error(y_train,train_pred))\n",
    "    \n",
    "    # Errors on Test Set\n",
    "    test_RMSE = np.sqrt(mean_squared_error(y_test,test_pred))\n",
    "\n",
    "    # Append errors to lists for plotting later\n",
    "    \n",
    "    print(train_RMSE)\n",
    "    print(test_RMSE)\n",
    "    train_rmse_errors.append(train_RMSE)\n",
    "    test_rmse_errors.append(test_RMSE)"
   ]
  },
  {
   "cell_type": "markdown",
   "metadata": {
    "id": "8Bj_3j9RuQYr"
   },
   "source": [
    "### 9b- Choose the best degree and print the errors, model coefficients and the Ridge parameters."
   ]
  },
  {
   "cell_type": "code",
   "execution_count": null,
   "metadata": {
    "collapsed": true,
    "id": "4q5E5NnbuQYr"
   },
   "outputs": [
    {
     "data": {
      "text/plain": [
       "<matplotlib.legend.Legend at 0x7f94b9ea6d90>"
      ]
     },
     "execution_count": 18,
     "metadata": {},
     "output_type": "execute_result"
    },
    {
     "data": {
      "image/png": "[encoded data removed]",
      "text/plain": [
       "<Figure size 432x288 with 1 Axes>"
      ]
     },
     "metadata": {
      "needs_background": "light"
     },
     "output_type": "display_data"
    }
   ],
   "source": [
    "plt.plot(range(1,8),train_rmse_errors,label='TRAIN')\n",
    "plt.plot(range(1,8),test_rmse_errors,label='TEST')\n",
    "plt.xlabel(\"Polynomial Complexity\")\n",
    "plt.ylabel(\"RMSE\")\n",
    "plt.legend()"
   ]
  },
  {
   "cell_type": "code",
   "execution_count": null,
   "metadata": {},
   "outputs": [
    {
     "name": "stdout",
     "output_type": "stream",
     "text": [
      "Train RMSE\n",
      "15.960321924525259\n",
      "Test RMSE\n",
      "20.579182767288557\n",
      "Alphas\n",
      "10.0\n"
     ]
    }
   ],
   "source": [
    "#Best degree is degree 6\n",
    "print(\"Train RMSE\")\n",
    "print(train_rmse_errors[6])\n",
    "print(\"Test RMSE\")\n",
    "print(test_rmse_errors[6])\n",
    "print(\"Alphas\")\n",
    "print(alphas[6])"
   ]
  },
  {
   "cell_type": "markdown",
   "metadata": {
    "id": "MN4RwweLuQYr"
   },
   "source": [
    "### 10a- Evaluate different degrees of ElasticNet CV polynomial regression"
   ]
  },
  {
   "cell_type": "code",
   "execution_count": 20,
   "metadata": {
    "collapsed": true,
    "id": "qK9SePrtuQYr"
   },
   "outputs": [
    {
     "name": "stdout",
     "output_type": "stream",
     "text": [
      "0.1\n",
      "24.80434949764937\n",
      "18.43689477421483\n"
     ]
    },
    {
     "name": "stderr",
     "output_type": "stream",
     "text": [
      "/Users/alaaabdelazeem/opt/anaconda3/lib/python3.9/site-packages/sklearn/linear_model/_coordinate_descent.py:633: ConvergenceWarning: Objective did not converge. You might want to increase the number of iterations. Duality gap: 4723.759791050106, tolerance: 989.2089260409275\n",
      "  model = cd_fast.enet_coordinate_descent_gram(\n",
      "/Users/alaaabdelazeem/opt/anaconda3/lib/python3.9/site-packages/sklearn/linear_model/_coordinate_descent.py:633: ConvergenceWarning: Objective did not converge. You might want to increase the number of iterations. Duality gap: 7054.421565424651, tolerance: 971.4647787368743\n",
      "  model = cd_fast.enet_coordinate_descent_gram(\n",
      "/Users/alaaabdelazeem/opt/anaconda3/lib/python3.9/site-packages/sklearn/linear_model/_coordinate_descent.py:633: ConvergenceWarning: Objective did not converge. You might want to increase the number of iterations. Duality gap: 8418.21749614738, tolerance: 986.8698144758378\n",
      "  model = cd_fast.enet_coordinate_descent_gram(\n",
      "/Users/alaaabdelazeem/opt/anaconda3/lib/python3.9/site-packages/sklearn/linear_model/_coordinate_descent.py:633: ConvergenceWarning: Objective did not converge. You might want to increase the number of iterations. Duality gap: 21934.352874930482, tolerance: 978.8358060896873\n",
      "  model = cd_fast.enet_coordinate_descent_gram(\n",
      "/Users/alaaabdelazeem/opt/anaconda3/lib/python3.9/site-packages/sklearn/linear_model/_coordinate_descent.py:633: ConvergenceWarning: Objective did not converge. You might want to increase the number of iterations. Duality gap: 6535.932047569193, tolerance: 987.18699189635\n",
      "  model = cd_fast.enet_coordinate_descent_gram(\n"
     ]
    },
    {
     "name": "stdout",
     "output_type": "stream",
     "text": [
      "0.1\n",
      "22.74978173787489\n",
      "17.086034572578107\n"
     ]
    },
    {
     "name": "stderr",
     "output_type": "stream",
     "text": [
      "/Users/alaaabdelazeem/opt/anaconda3/lib/python3.9/site-packages/sklearn/linear_model/_coordinate_descent.py:633: ConvergenceWarning: Objective did not converge. You might want to increase the number of iterations. Duality gap: 8145.369008954382, tolerance: 989.2089260409275\n",
      "  model = cd_fast.enet_coordinate_descent_gram(\n",
      "/Users/alaaabdelazeem/opt/anaconda3/lib/python3.9/site-packages/sklearn/linear_model/_coordinate_descent.py:633: ConvergenceWarning: Objective did not converge. You might want to increase the number of iterations. Duality gap: 18833.2282459992, tolerance: 971.4647787368743\n",
      "  model = cd_fast.enet_coordinate_descent_gram(\n",
      "/Users/alaaabdelazeem/opt/anaconda3/lib/python3.9/site-packages/sklearn/linear_model/_coordinate_descent.py:633: ConvergenceWarning: Objective did not converge. You might want to increase the number of iterations. Duality gap: 16092.76238352689, tolerance: 986.8698144758378\n",
      "  model = cd_fast.enet_coordinate_descent_gram(\n",
      "/Users/alaaabdelazeem/opt/anaconda3/lib/python3.9/site-packages/sklearn/linear_model/_coordinate_descent.py:633: ConvergenceWarning: Objective did not converge. You might want to increase the number of iterations. Duality gap: 15761.890616899356, tolerance: 978.8358060896873\n",
      "  model = cd_fast.enet_coordinate_descent_gram(\n",
      "/Users/alaaabdelazeem/opt/anaconda3/lib/python3.9/site-packages/sklearn/linear_model/_coordinate_descent.py:633: ConvergenceWarning: Objective did not converge. You might want to increase the number of iterations. Duality gap: 14626.910774044693, tolerance: 987.18699189635\n",
      "  model = cd_fast.enet_coordinate_descent_gram(\n",
      "/Users/alaaabdelazeem/opt/anaconda3/lib/python3.9/site-packages/sklearn/linear_model/_coordinate_descent.py:647: ConvergenceWarning: Objective did not converge. You might want to increase the number of iterations, check the scale of the features or consider increasing regularisation. Duality gap: 1.966e+04, tolerance: 1.228e+03\n",
      "  model = cd_fast.enet_coordinate_descent(\n"
     ]
    },
    {
     "name": "stdout",
     "output_type": "stream",
     "text": [
      "0.1\n",
      "21.961293683600104\n",
      "16.608670820101935\n"
     ]
    },
    {
     "name": "stderr",
     "output_type": "stream",
     "text": [
      "/Users/alaaabdelazeem/opt/anaconda3/lib/python3.9/site-packages/sklearn/linear_model/_coordinate_descent.py:633: ConvergenceWarning: Objective did not converge. You might want to increase the number of iterations. Duality gap: 9520.174549510237, tolerance: 989.2089260409275\n",
      "  model = cd_fast.enet_coordinate_descent_gram(\n",
      "/Users/alaaabdelazeem/opt/anaconda3/lib/python3.9/site-packages/sklearn/linear_model/_coordinate_descent.py:633: ConvergenceWarning: Objective did not converge. You might want to increase the number of iterations. Duality gap: 12741.022314921487, tolerance: 971.4647787368743\n",
      "  model = cd_fast.enet_coordinate_descent_gram(\n",
      "/Users/alaaabdelazeem/opt/anaconda3/lib/python3.9/site-packages/sklearn/linear_model/_coordinate_descent.py:633: ConvergenceWarning: Objective did not converge. You might want to increase the number of iterations. Duality gap: 12380.329718774185, tolerance: 986.8698144758378\n",
      "  model = cd_fast.enet_coordinate_descent_gram(\n",
      "/Users/alaaabdelazeem/opt/anaconda3/lib/python3.9/site-packages/sklearn/linear_model/_coordinate_descent.py:633: ConvergenceWarning: Objective did not converge. You might want to increase the number of iterations. Duality gap: 14110.51025413908, tolerance: 978.8358060896873\n",
      "  model = cd_fast.enet_coordinate_descent_gram(\n",
      "/Users/alaaabdelazeem/opt/anaconda3/lib/python3.9/site-packages/sklearn/linear_model/_coordinate_descent.py:633: ConvergenceWarning: Objective did not converge. You might want to increase the number of iterations. Duality gap: 8342.752065058332, tolerance: 987.18699189635\n",
      "  model = cd_fast.enet_coordinate_descent_gram(\n",
      "/Users/alaaabdelazeem/opt/anaconda3/lib/python3.9/site-packages/sklearn/linear_model/_coordinate_descent.py:647: ConvergenceWarning: Objective did not converge. You might want to increase the number of iterations, check the scale of the features or consider increasing regularisation. Duality gap: 1.076e+04, tolerance: 1.228e+03\n",
      "  model = cd_fast.enet_coordinate_descent(\n"
     ]
    },
    {
     "name": "stdout",
     "output_type": "stream",
     "text": [
      "0.1\n",
      "21.304756063335965\n",
      "16.239534799167465\n"
     ]
    },
    {
     "name": "stderr",
     "output_type": "stream",
     "text": [
      "/Users/alaaabdelazeem/opt/anaconda3/lib/python3.9/site-packages/sklearn/linear_model/_coordinate_descent.py:647: ConvergenceWarning: Objective did not converge. You might want to increase the number of iterations, check the scale of the features or consider increasing regularisation. Duality gap: 1.218e+04, tolerance: 9.892e+02\n",
      "  model = cd_fast.enet_coordinate_descent(\n",
      "/Users/alaaabdelazeem/opt/anaconda3/lib/python3.9/site-packages/sklearn/linear_model/_coordinate_descent.py:647: ConvergenceWarning: Objective did not converge. You might want to increase the number of iterations, check the scale of the features or consider increasing regularisation. Duality gap: 8.477e+03, tolerance: 9.715e+02\n",
      "  model = cd_fast.enet_coordinate_descent(\n",
      "/Users/alaaabdelazeem/opt/anaconda3/lib/python3.9/site-packages/sklearn/linear_model/_coordinate_descent.py:647: ConvergenceWarning: Objective did not converge. You might want to increase the number of iterations, check the scale of the features or consider increasing regularisation. Duality gap: 1.325e+04, tolerance: 9.869e+02\n",
      "  model = cd_fast.enet_coordinate_descent(\n",
      "/Users/alaaabdelazeem/opt/anaconda3/lib/python3.9/site-packages/sklearn/linear_model/_coordinate_descent.py:647: ConvergenceWarning: Objective did not converge. You might want to increase the number of iterations, check the scale of the features or consider increasing regularisation. Duality gap: 8.237e+03, tolerance: 9.788e+02\n",
      "  model = cd_fast.enet_coordinate_descent(\n",
      "/Users/alaaabdelazeem/opt/anaconda3/lib/python3.9/site-packages/sklearn/linear_model/_coordinate_descent.py:647: ConvergenceWarning: Objective did not converge. You might want to increase the number of iterations, check the scale of the features or consider increasing regularisation. Duality gap: 1.731e+04, tolerance: 9.872e+02\n",
      "  model = cd_fast.enet_coordinate_descent(\n",
      "/Users/alaaabdelazeem/opt/anaconda3/lib/python3.9/site-packages/sklearn/linear_model/_coordinate_descent.py:647: ConvergenceWarning: Objective did not converge. You might want to increase the number of iterations, check the scale of the features or consider increasing regularisation. Duality gap: 1.491e+04, tolerance: 1.228e+03\n",
      "  model = cd_fast.enet_coordinate_descent(\n"
     ]
    },
    {
     "name": "stdout",
     "output_type": "stream",
     "text": [
      "0.1\n",
      "20.865167360862927\n",
      "15.888816387756023\n"
     ]
    },
    {
     "name": "stderr",
     "output_type": "stream",
     "text": [
      "/Users/alaaabdelazeem/opt/anaconda3/lib/python3.9/site-packages/sklearn/linear_model/_coordinate_descent.py:647: ConvergenceWarning: Objective did not converge. You might want to increase the number of iterations, check the scale of the features or consider increasing regularisation. Duality gap: 2.147e+04, tolerance: 9.892e+02\n",
      "  model = cd_fast.enet_coordinate_descent(\n",
      "/Users/alaaabdelazeem/opt/anaconda3/lib/python3.9/site-packages/sklearn/linear_model/_coordinate_descent.py:647: ConvergenceWarning: Objective did not converge. You might want to increase the number of iterations, check the scale of the features or consider increasing regularisation. Duality gap: 1.860e+04, tolerance: 9.715e+02\n",
      "  model = cd_fast.enet_coordinate_descent(\n",
      "/Users/alaaabdelazeem/opt/anaconda3/lib/python3.9/site-packages/sklearn/linear_model/_coordinate_descent.py:647: ConvergenceWarning: Objective did not converge. You might want to increase the number of iterations, check the scale of the features or consider increasing regularisation. Duality gap: 2.319e+04, tolerance: 9.869e+02\n",
      "  model = cd_fast.enet_coordinate_descent(\n",
      "/Users/alaaabdelazeem/opt/anaconda3/lib/python3.9/site-packages/sklearn/linear_model/_coordinate_descent.py:647: ConvergenceWarning: Objective did not converge. You might want to increase the number of iterations, check the scale of the features or consider increasing regularisation. Duality gap: 1.980e+04, tolerance: 9.788e+02\n",
      "  model = cd_fast.enet_coordinate_descent(\n",
      "/Users/alaaabdelazeem/opt/anaconda3/lib/python3.9/site-packages/sklearn/linear_model/_coordinate_descent.py:647: ConvergenceWarning: Objective did not converge. You might want to increase the number of iterations, check the scale of the features or consider increasing regularisation. Duality gap: 3.037e+04, tolerance: 9.872e+02\n",
      "  model = cd_fast.enet_coordinate_descent(\n",
      "/Users/alaaabdelazeem/opt/anaconda3/lib/python3.9/site-packages/sklearn/linear_model/_coordinate_descent.py:647: ConvergenceWarning: Objective did not converge. You might want to increase the number of iterations, check the scale of the features or consider increasing regularisation. Duality gap: 3.431e+04, tolerance: 1.228e+03\n",
      "  model = cd_fast.enet_coordinate_descent(\n"
     ]
    },
    {
     "name": "stdout",
     "output_type": "stream",
     "text": [
      "0.1\n",
      "20.562101372440175\n",
      "15.68129524429318\n"
     ]
    }
   ],
   "source": [
    "from sklearn.metrics import mean_absolute_error,mean_squared_error\n",
    "\n",
    "\n",
    "en_train_rmse_errors = []\n",
    "en_test_rmse_errors = []\n",
    "en_train_mae_errors = []\n",
    "en_test_mae_errors = []\n",
    "en_alphas = []\n",
    "\n",
    "for d in range(1,7):\n",
    "    \n",
    "    # CREATE POLY DATA SET FOR DEGREE \"d\"\n",
    "    polynomial_converter = PolynomialFeatures(degree=d,include_bias=False)\n",
    "    poly_features = polynomial_converter.fit_transform(X)\n",
    "    \n",
    "    # SPLIT THIS NEW POLY DATA SET\n",
    "    X_train, X_test, y_train, y_test = train_test_split(poly_features, y, test_size=0.3, random_state=101)\n",
    "\n",
    "    #Scaling\n",
    "    scaler = StandardScaler()\n",
    "    X_train = scaler.fit_transform(X_train)\n",
    "    X_test = scaler.transform(X_test)\n",
    "\n",
    "    # TRAIN ON THIS NEW POLY SET\n",
    "    lasso_cv_model = LassoCV(alphas=(0.1, 1.0, 10.0))\n",
    "    lasso_cv_model.fit(X_train,y_train)\n",
    "    print(lasso_cv_model.alpha_)\n",
    "    en_alphas.append(lasso_cv_model.alpha_)\n",
    "    # PREDICT ON BOTH TRAIN AND TEST\n",
    "    train_pred = lasso_cv_model.predict(X_train)\n",
    "    test_pred = lasso_cv_model.predict(X_test)\n",
    "    \n",
    "    # Calculate Errors\n",
    "    \n",
    "    # Errors on Train Set\n",
    "    train_RMSE = np.sqrt(mean_squared_error(y_train,train_pred))\n",
    "    train_MAE = mean_absolute_error(y_train,train_pred)\n",
    "    # Errors on Test Set\n",
    "    test_MAE = np.sqrt(mean_squared_error(y_test,test_pred))\n",
    "    test_RMSE = mean_absolute_error(y_test,test_pred)\n",
    "    \n",
    "\n",
    "    # Append errors to lists for plotting later\n",
    "    \n",
    "    print(train_RMSE)\n",
    "    print(test_RMSE)\n",
    "    en_train_rmse_errors.append(train_RMSE)\n",
    "    en_test_rmse_errors.append(test_RMSE)\n",
    "    en_train_mae_errors.append(train_MAE)\n",
    "    en_test_mae_errors.append(test_MAE)"
   ]
  },
  {
   "cell_type": "markdown",
   "metadata": {
    "id": "JSt5s73XuQYr"
   },
   "source": [
    "### 10b- Choose the best degree and print the errors, model coefficients and ElasticNet parameters."
   ]
  },
  {
   "cell_type": "code",
   "execution_count": 21,
   "metadata": {
    "collapsed": true,
    "id": "UkbcQLlLuQYr"
   },
   "outputs": [
    {
     "data": {
      "text/plain": [
       "<matplotlib.legend.Legend at 0x7fb7682d27f0>"
      ]
     },
     "execution_count": 21,
     "metadata": {},
     "output_type": "execute_result"
    },
    {
     "data": {
      "image/png": "[encoded data removed]",
      "text/plain": [
       "<Figure size 432x288 with 1 Axes>"
      ]
     },
     "metadata": {
      "needs_background": "light"
     },
     "output_type": "display_data"
    }
   ],
   "source": [
    "plt.plot(range(1,7),en_train_rmse_errors,label='TRAIN')\n",
    "plt.plot(range(1,7),en_test_rmse_errors,label='TEST')\n",
    "plt.xlabel(\"Polynomial Complexity\")\n",
    "plt.ylabel(\"RMSE\")\n",
    "plt.legend()"
   ]
  },
  {
   "cell_type": "code",
   "execution_count": 24,
   "metadata": {},
   "outputs": [
    {
     "name": "stdout",
     "output_type": "stream",
     "text": [
      "Train RMSE\n",
      "20.562101372440175\n",
      "Test RMSE\n",
      "15.68129524429318\n",
      "Train MAE\n",
      "15.151199640046757\n",
      "Test MAE\n",
      "21.044211534023447\n",
      "Alphas\n",
      "0.1\n"
     ]
    }
   ],
   "source": [
    "#Best degree is degree 6\n",
    "print(\"Train RMSE\")\n",
    "print(en_train_rmse_errors[5])\n",
    "print(\"Test RMSE\")\n",
    "print(en_test_rmse_errors[5])\n",
    "\n",
    "print(\"Train MAE\")\n",
    "print(en_train_mae_errors[5])\n",
    "print(\"Test MAE\")\n",
    "print(en_test_mae_errors[5])\n",
    "\n",
    "print(\"Alphas\")\n",
    "print(en_alphas[5])"
   ]
  },
  {
   "cell_type": "markdown",
   "metadata": {
    "id": "O_cuFINquQYs"
   },
   "source": [
    "### 11- Compare the errors from the 3 regularization techniques, and save the best model."
   ]
  },
  {
   "cell_type": "code",
   "execution_count": null,
   "metadata": {
    "collapsed": true,
    "id": "qn58GoGpuQYs"
   },
   "outputs": [],
   "source": []
  },
  {
   "cell_type": "markdown",
   "metadata": {
    "id": "IUGAAZY4uQYs"
   },
   "source": [
    "### 12- Load the best model and test it on a sample that you manually created it."
   ]
  },
  {
   "cell_type": "code",
   "execution_count": null,
   "metadata": {
    "collapsed": true,
    "id": "SIw1mo3kuQYs"
   },
   "outputs": [],
   "source": []
  },
  {
   "cell_type": "markdown",
   "metadata": {
    "id": "G3dUEoJjj-AK"
   },
   "source": [
    "## Great work!\n",
    "----"
   ]
  }
 ],
 "metadata": {
  "anaconda-cloud": {},
  "colab": {
   "provenance": []
  },
  "interpreter": {
   "hash": "94c0416a27a2be01afabedcc7d3b1cabbfb61c096f1ad2556824fef78ff764d6"
  },
  "kernelspec": {
   "display_name": "Python 3.9.12",
   "language": "python",
   "name": "python3"
  },
  "language_info": {
   "codemirror_mode": {
    "name": "ipython",
    "version": 3
   },
   "file_extension": ".py",
   "mimetype": "text/x-python",
   "name": "python",
   "nbconvert_exporter": "python",
   "pygments_lexer": "ipython3",
   "version": "3.9.12"
  }
 },
 "nbformat": 4,
 "nbformat_minor": 1
}
